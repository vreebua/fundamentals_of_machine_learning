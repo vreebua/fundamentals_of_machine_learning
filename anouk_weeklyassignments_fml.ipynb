{
 "cells": [
  {
   "cell_type": "markdown",
   "id": "06a472eb",
   "metadata": {},
   "source": [
    "Fundamentals of Machine Learning - Anouk D01"
   ]
  },
  {
   "cell_type": "markdown",
   "id": "3844737e",
   "metadata": {},
   "source": [
    "Made with help of the lessons and examples and datasets on Teams"
   ]
  },
  {
   "cell_type": "markdown",
   "id": "1aa5fd65",
   "metadata": {},
   "source": [
    "# <font color=blue>Weekly assignment 1: exploratory data analysis</font>"
   ]
  },
  {
   "cell_type": "markdown",
   "id": "a72848ce",
   "metadata": {},
   "source": [
    "## Data cleaning"
   ]
  },
  {
   "cell_type": "markdown",
   "id": "b66bf169",
   "metadata": {},
   "source": [
    "### Step 1: Read in and merge the two data sets (tip: think of different CSV formats that exist)"
   ]
  },
  {
   "cell_type": "markdown",
   "id": "079470e0",
   "metadata": {},
   "source": [
    "First I read both the datasets"
   ]
  },
  {
   "cell_type": "code",
   "execution_count": 179,
   "id": "bc3dbf83",
   "metadata": {
    "scrolled": true
   },
   "outputs": [
    {
     "data": {
      "text/html": [
       "<div>\n",
       "<style scoped>\n",
       "    .dataframe tbody tr th:only-of-type {\n",
       "        vertical-align: middle;\n",
       "    }\n",
       "\n",
       "    .dataframe tbody tr th {\n",
       "        vertical-align: top;\n",
       "    }\n",
       "\n",
       "    .dataframe thead th {\n",
       "        text-align: right;\n",
       "    }\n",
       "</style>\n",
       "<table border=\"1\" class=\"dataframe\">\n",
       "  <thead>\n",
       "    <tr style=\"text-align: right;\">\n",
       "      <th></th>\n",
       "      <th>id</th>\n",
       "      <th>20-6-2013</th>\n",
       "      <th>21-6-2013</th>\n",
       "      <th>22-6-2013</th>\n",
       "      <th>23-6-2013</th>\n",
       "      <th>24-6-2013</th>\n",
       "      <th>25-6-2013</th>\n",
       "      <th>26-6-2013</th>\n",
       "      <th>27-6-2013</th>\n",
       "      <th>28-6-2013</th>\n",
       "      <th>...</th>\n",
       "      <th>4-5-2014</th>\n",
       "      <th>5-5-2014</th>\n",
       "      <th>6-5-2014</th>\n",
       "      <th>7-5-2014</th>\n",
       "      <th>8-5-2014</th>\n",
       "      <th>9-5-2014</th>\n",
       "      <th>10-5-2014</th>\n",
       "      <th>11-5-2014</th>\n",
       "      <th>12-5-2014</th>\n",
       "      <th>13-5-2014</th>\n",
       "    </tr>\n",
       "  </thead>\n",
       "  <tbody>\n",
       "    <tr>\n",
       "      <th>0</th>\n",
       "      <td>1</td>\n",
       "      <td>NaN</td>\n",
       "      <td>NaN</td>\n",
       "      <td>NaN</td>\n",
       "      <td>NaN</td>\n",
       "      <td>3941.0</td>\n",
       "      <td>15733.0</td>\n",
       "      <td>9929.0</td>\n",
       "      <td>12879.0</td>\n",
       "      <td>10541.0</td>\n",
       "      <td>...</td>\n",
       "      <td>NaN</td>\n",
       "      <td>NaN</td>\n",
       "      <td>NaN</td>\n",
       "      <td>NaN</td>\n",
       "      <td>NaN</td>\n",
       "      <td>NaN</td>\n",
       "      <td>NaN</td>\n",
       "      <td>NaN</td>\n",
       "      <td>NaN</td>\n",
       "      <td>NaN</td>\n",
       "    </tr>\n",
       "    <tr>\n",
       "      <th>1</th>\n",
       "      <td>2</td>\n",
       "      <td>NaN</td>\n",
       "      <td>NaN</td>\n",
       "      <td>10473.0</td>\n",
       "      <td>705.0</td>\n",
       "      <td>4287.0</td>\n",
       "      <td>5507.0</td>\n",
       "      <td>4024.0</td>\n",
       "      <td>3926.0</td>\n",
       "      <td>14595.0</td>\n",
       "      <td>...</td>\n",
       "      <td>NaN</td>\n",
       "      <td>NaN</td>\n",
       "      <td>NaN</td>\n",
       "      <td>NaN</td>\n",
       "      <td>NaN</td>\n",
       "      <td>NaN</td>\n",
       "      <td>NaN</td>\n",
       "      <td>NaN</td>\n",
       "      <td>NaN</td>\n",
       "      <td>NaN</td>\n",
       "    </tr>\n",
       "    <tr>\n",
       "      <th>2</th>\n",
       "      <td>3</td>\n",
       "      <td>NaN</td>\n",
       "      <td>11428.0</td>\n",
       "      <td>12523.0</td>\n",
       "      <td>2553.0</td>\n",
       "      <td>190.0</td>\n",
       "      <td>2164.0</td>\n",
       "      <td>8185.0</td>\n",
       "      <td>9630.0</td>\n",
       "      <td>8983.0</td>\n",
       "      <td>...</td>\n",
       "      <td>3914.0</td>\n",
       "      <td>4364.0</td>\n",
       "      <td>NaN</td>\n",
       "      <td>NaN</td>\n",
       "      <td>NaN</td>\n",
       "      <td>6227.0</td>\n",
       "      <td>4567.0</td>\n",
       "      <td>2567.0</td>\n",
       "      <td>1129.0</td>\n",
       "      <td>NaN</td>\n",
       "    </tr>\n",
       "    <tr>\n",
       "      <th>3</th>\n",
       "      <td>4</td>\n",
       "      <td>NaN</td>\n",
       "      <td>NaN</td>\n",
       "      <td>NaN</td>\n",
       "      <td>NaN</td>\n",
       "      <td>NaN</td>\n",
       "      <td>NaN</td>\n",
       "      <td>NaN</td>\n",
       "      <td>NaN</td>\n",
       "      <td>NaN</td>\n",
       "      <td>...</td>\n",
       "      <td>NaN</td>\n",
       "      <td>NaN</td>\n",
       "      <td>NaN</td>\n",
       "      <td>NaN</td>\n",
       "      <td>NaN</td>\n",
       "      <td>NaN</td>\n",
       "      <td>NaN</td>\n",
       "      <td>NaN</td>\n",
       "      <td>NaN</td>\n",
       "      <td>NaN</td>\n",
       "    </tr>\n",
       "    <tr>\n",
       "      <th>4</th>\n",
       "      <td>5</td>\n",
       "      <td>NaN</td>\n",
       "      <td>NaN</td>\n",
       "      <td>NaN</td>\n",
       "      <td>NaN</td>\n",
       "      <td>NaN</td>\n",
       "      <td>NaN</td>\n",
       "      <td>NaN</td>\n",
       "      <td>NaN</td>\n",
       "      <td>NaN</td>\n",
       "      <td>...</td>\n",
       "      <td>NaN</td>\n",
       "      <td>NaN</td>\n",
       "      <td>NaN</td>\n",
       "      <td>NaN</td>\n",
       "      <td>NaN</td>\n",
       "      <td>NaN</td>\n",
       "      <td>NaN</td>\n",
       "      <td>NaN</td>\n",
       "      <td>NaN</td>\n",
       "      <td>NaN</td>\n",
       "    </tr>\n",
       "  </tbody>\n",
       "</table>\n",
       "<p>5 rows × 329 columns</p>\n",
       "</div>"
      ],
      "text/plain": [
       "   id  20-6-2013  21-6-2013  22-6-2013  23-6-2013  24-6-2013  25-6-2013  \\\n",
       "0   1        NaN        NaN        NaN        NaN     3941.0    15733.0   \n",
       "1   2        NaN        NaN    10473.0      705.0     4287.0     5507.0   \n",
       "2   3        NaN    11428.0    12523.0     2553.0      190.0     2164.0   \n",
       "3   4        NaN        NaN        NaN        NaN        NaN        NaN   \n",
       "4   5        NaN        NaN        NaN        NaN        NaN        NaN   \n",
       "\n",
       "   26-6-2013  27-6-2013  28-6-2013  ...  4-5-2014  5-5-2014  6-5-2014  \\\n",
       "0     9929.0    12879.0    10541.0  ...       NaN       NaN       NaN   \n",
       "1     4024.0     3926.0    14595.0  ...       NaN       NaN       NaN   \n",
       "2     8185.0     9630.0     8983.0  ...    3914.0    4364.0       NaN   \n",
       "3        NaN        NaN        NaN  ...       NaN       NaN       NaN   \n",
       "4        NaN        NaN        NaN  ...       NaN       NaN       NaN   \n",
       "\n",
       "   7-5-2014  8-5-2014  9-5-2014  10-5-2014  11-5-2014  12-5-2014  13-5-2014  \n",
       "0       NaN       NaN       NaN        NaN        NaN        NaN        NaN  \n",
       "1       NaN       NaN       NaN        NaN        NaN        NaN        NaN  \n",
       "2       NaN       NaN    6227.0     4567.0     2567.0     1129.0        NaN  \n",
       "3       NaN       NaN       NaN        NaN        NaN        NaN        NaN  \n",
       "4       NaN       NaN       NaN        NaN        NaN        NaN        NaN  \n",
       "\n",
       "[5 rows x 329 columns]"
      ]
     },
     "execution_count": 179,
     "metadata": {},
     "output_type": "execute_result"
    }
   ],
   "source": [
    "import seaborn as sns #this is the plotting library I'll be using \n",
    "import pandas as pd #\"as pd\" means that we can use the abbreviation in commands\n",
    "import matplotlib.pyplot as plt #we need Matplotlib for setting the labels in the Seaborn graphs\n",
    "\n",
    "df1 = pd.read_csv('steps.csv', sep=\";\")\n",
    "df1.head()"
   ]
  },
  {
   "cell_type": "code",
   "execution_count": 180,
   "id": "0a0f873a",
   "metadata": {
    "scrolled": true
   },
   "outputs": [
    {
     "data": {
      "text/html": [
       "<div>\n",
       "<style scoped>\n",
       "    .dataframe tbody tr th:only-of-type {\n",
       "        vertical-align: middle;\n",
       "    }\n",
       "\n",
       "    .dataframe tbody tr th {\n",
       "        vertical-align: top;\n",
       "    }\n",
       "\n",
       "    .dataframe thead th {\n",
       "        text-align: right;\n",
       "    }\n",
       "</style>\n",
       "<table border=\"1\" class=\"dataframe\">\n",
       "  <thead>\n",
       "    <tr style=\"text-align: right;\">\n",
       "      <th></th>\n",
       "      <th>id</th>\n",
       "      <th>city</th>\n",
       "      <th>gender</th>\n",
       "      <th>age</th>\n",
       "      <th>hh_size</th>\n",
       "      <th>education</th>\n",
       "      <th>education_1</th>\n",
       "      <th>height</th>\n",
       "      <th>weight</th>\n",
       "    </tr>\n",
       "  </thead>\n",
       "  <tbody>\n",
       "    <tr>\n",
       "      <th>0</th>\n",
       "      <td>1</td>\n",
       "      <td>Bordeaux</td>\n",
       "      <td>Male</td>\n",
       "      <td>25-34</td>\n",
       "      <td>4</td>\n",
       "      <td>4</td>\n",
       "      <td>Master or doctorate</td>\n",
       "      <td>178.0</td>\n",
       "      <td>98.0</td>\n",
       "    </tr>\n",
       "    <tr>\n",
       "      <th>1</th>\n",
       "      <td>2</td>\n",
       "      <td>Lille</td>\n",
       "      <td>Male</td>\n",
       "      <td>35-44</td>\n",
       "      <td>1</td>\n",
       "      <td>3</td>\n",
       "      <td>Bachelor</td>\n",
       "      <td>180.0</td>\n",
       "      <td>77.0</td>\n",
       "    </tr>\n",
       "    <tr>\n",
       "      <th>2</th>\n",
       "      <td>3</td>\n",
       "      <td>Montpellier</td>\n",
       "      <td>Male</td>\n",
       "      <td>25-34</td>\n",
       "      <td>2</td>\n",
       "      <td>2</td>\n",
       "      <td>Master or doctorate</td>\n",
       "      <td>180.0</td>\n",
       "      <td>83.0</td>\n",
       "    </tr>\n",
       "    <tr>\n",
       "      <th>3</th>\n",
       "      <td>4</td>\n",
       "      <td>Lyon</td>\n",
       "      <td>Male</td>\n",
       "      <td>&lt;25</td>\n",
       "      <td>1</td>\n",
       "      <td>1</td>\n",
       "      <td>Bachelor</td>\n",
       "      <td>178.0</td>\n",
       "      <td>80.0</td>\n",
       "    </tr>\n",
       "    <tr>\n",
       "      <th>4</th>\n",
       "      <td>5</td>\n",
       "      <td>Montpellier</td>\n",
       "      <td>Female</td>\n",
       "      <td>25-34</td>\n",
       "      <td>3</td>\n",
       "      <td>4</td>\n",
       "      <td>Bachelor</td>\n",
       "      <td>167.0</td>\n",
       "      <td>61.0</td>\n",
       "    </tr>\n",
       "  </tbody>\n",
       "</table>\n",
       "</div>"
      ],
      "text/plain": [
       "   id         city  gender    age  hh_size  education          education_1  \\\n",
       "0   1     Bordeaux    Male  25-34        4          4  Master or doctorate   \n",
       "1   2        Lille    Male  35-44        1          3             Bachelor   \n",
       "2   3  Montpellier    Male  25-34        2          2  Master or doctorate   \n",
       "3   4         Lyon    Male    <25        1          1             Bachelor   \n",
       "4   5  Montpellier  Female  25-34        3          4             Bachelor   \n",
       "\n",
       "   height  weight  \n",
       "0   178.0    98.0  \n",
       "1   180.0    77.0  \n",
       "2   180.0    83.0  \n",
       "3   178.0    80.0  \n",
       "4   167.0    61.0  "
      ]
     },
     "execution_count": 180,
     "metadata": {},
     "output_type": "execute_result"
    }
   ],
   "source": [
    "df2 = pd.read_csv('survey.csv')\n",
    "df2.head()"
   ]
  },
  {
   "cell_type": "markdown",
   "id": "a437ab70",
   "metadata": {},
   "source": [
    "Then I put them together on their common identifier"
   ]
  },
  {
   "cell_type": "code",
   "execution_count": 181,
   "id": "3772f2dc",
   "metadata": {},
   "outputs": [],
   "source": [
    "df = pd.merge(df1, df2, on = 'id') "
   ]
  },
  {
   "cell_type": "code",
   "execution_count": 182,
   "id": "65327791",
   "metadata": {},
   "outputs": [
    {
     "name": "stdout",
     "output_type": "stream",
     "text": [
      "      id  20-6-2013  21-6-2013  22-6-2013  23-6-2013  24-6-2013  25-6-2013  \\\n",
      "0      1        NaN        NaN        NaN        NaN     3941.0    15733.0   \n",
      "1      2        NaN        NaN    10473.0      705.0     4287.0     5507.0   \n",
      "2      3        NaN    11428.0    12523.0     2553.0      190.0     2164.0   \n",
      "3      4        NaN        NaN        NaN        NaN        NaN        NaN   \n",
      "4      5        NaN        NaN        NaN        NaN        NaN        NaN   \n",
      "..   ...        ...        ...        ...        ...        ...        ...   \n",
      "924  925        NaN     4571.0    10471.0     5899.0    15295.0     9178.0   \n",
      "925  926        NaN        NaN        NaN        NaN        NaN        NaN   \n",
      "926  927        NaN        NaN        NaN     1623.0        NaN        NaN   \n",
      "927  928        NaN        NaN    14411.0    14364.0    26629.0    13092.0   \n",
      "928  929        NaN     3324.0     4507.0    14364.0     4098.0     7299.0   \n",
      "\n",
      "     26-6-2013  27-6-2013  28-6-2013  ...  12-5-2014  13-5-2014         city  \\\n",
      "0       9929.0    12879.0    10541.0  ...        NaN        NaN     Bordeaux   \n",
      "1       4024.0     3926.0    14595.0  ...        NaN        NaN        Lille   \n",
      "2       8185.0     9630.0     8983.0  ...     1129.0        NaN  Montpellier   \n",
      "3          NaN        NaN        NaN  ...        NaN        NaN         Lyon   \n",
      "4          NaN        NaN        NaN  ...        NaN        NaN  Montpellier   \n",
      "..         ...        ...        ...  ...        ...        ...          ...   \n",
      "924     9348.0    12229.0    13767.0  ...        NaN        NaN        Lille   \n",
      "925        NaN        NaN        NaN  ...        NaN        NaN        Lille   \n",
      "926        NaN        NaN        NaN  ...        NaN        NaN  Montpellier   \n",
      "927     9266.0    14949.0    43238.0  ...        NaN        NaN        Lille   \n",
      "928    11534.0    10125.0     7700.0  ...        NaN        NaN         Lyon   \n",
      "\n",
      "     gender    age  hh_size  education          education_1  height  weight  \n",
      "0      Male  25-34        4          4  Master or doctorate   178.0    98.0  \n",
      "1      Male  35-44        1          3             Bachelor   180.0    77.0  \n",
      "2      Male  25-34        2          2  Master or doctorate   180.0    83.0  \n",
      "3      Male    <25        1          1             Bachelor   178.0    80.0  \n",
      "4    Female  25-34        3          4             Bachelor   167.0    61.0  \n",
      "..      ...    ...      ...        ...                  ...     ...     ...  \n",
      "924  Female  45-54        3          4  Master or doctorate   165.0    59.0  \n",
      "925    Male    <25        3          5             Bachelor   192.0    90.0  \n",
      "926    Male  35-44        2          2             Bachelor   181.0    71.0  \n",
      "927  Female  55-64        1          1          High school   172.0    65.0  \n",
      "928    Male  25-34        2          2          High school   180.0    76.0  \n",
      "\n",
      "[929 rows x 337 columns]\n"
     ]
    }
   ],
   "source": [
    "print(df)"
   ]
  },
  {
   "cell_type": "markdown",
   "id": "ec986c93",
   "metadata": {},
   "source": [
    "### Step 2: Clean the data: remove impossible values"
   ]
  },
  {
   "cell_type": "code",
   "execution_count": 183,
   "id": "58314185",
   "metadata": {},
   "outputs": [
    {
     "data": {
      "text/plain": [
       "0      98.0\n",
       "1      77.0\n",
       "2      83.0\n",
       "3      80.0\n",
       "4      61.0\n",
       "       ... \n",
       "924    59.0\n",
       "925    90.0\n",
       "926    71.0\n",
       "927    65.0\n",
       "928    76.0\n",
       "Name: weight, Length: 929, dtype: float64"
      ]
     },
     "execution_count": 183,
     "metadata": {},
     "output_type": "execute_result"
    }
   ],
   "source": [
    "df['weight']"
   ]
  },
  {
   "cell_type": "code",
   "execution_count": 184,
   "id": "0cb536d1",
   "metadata": {},
   "outputs": [
    {
     "data": {
      "image/png": "[encoded data removed]",
      "text/plain": [
       "<Figure size 360x360 with 1 Axes>"
      ]
     },
     "metadata": {
      "needs_background": "light"
     },
     "output_type": "display_data"
    }
   ],
   "source": [
    "sns.displot(df['weight'].dropna(), kde=False) #Selecting the rating column. I need to drop the NA's for the plot\n",
    "plt.title('Weight of user')\n",
    "plt.xlabel('Weight (kg)')\n",
    "plt.ylabel('Count')\n",
    "plt.show()"
   ]
  },
  {
   "cell_type": "markdown",
   "id": "62a45c3e",
   "metadata": {},
   "source": [
    "When looking at the 'weight' variable, I could see some extreme outliers, like the examples of people almost being 700 or 20 kilos. These are mostly unrealistic and therefore needed to be removed/cleaned up<br>\n",
    "This could be achieved with the code below"
   ]
  },
  {
   "cell_type": "code",
   "execution_count": 185,
   "id": "25229d78",
   "metadata": {},
   "outputs": [
    {
     "data": {
      "text/plain": [
       "0      98.0\n",
       "1      77.0\n",
       "2      83.0\n",
       "3      80.0\n",
       "4      61.0\n",
       "       ... \n",
       "924    59.0\n",
       "925    90.0\n",
       "926    71.0\n",
       "927    65.0\n",
       "928    76.0\n",
       "Name: weight, Length: 924, dtype: float64"
      ]
     },
     "execution_count": 185,
     "metadata": {},
     "output_type": "execute_result"
    }
   ],
   "source": [
    "df = df[(df[\"weight\"] < 200) & (df[\"weight\"] > 35)]\n",
    "df['weight']"
   ]
  },
  {
   "cell_type": "markdown",
   "id": "1c6e1a26",
   "metadata": {},
   "source": [
    "After the clean up of 'weight' the histogram looks a lot more realistic and readable"
   ]
  },
  {
   "cell_type": "code",
   "execution_count": 186,
   "id": "fd12e098",
   "metadata": {},
   "outputs": [
    {
     "data": {
      "image/png": "[encoded data removed]",
      "text/plain": [
       "<Figure size 360x360 with 1 Axes>"
      ]
     },
     "metadata": {
      "needs_background": "light"
     },
     "output_type": "display_data"
    }
   ],
   "source": [
    "sns.displot(df['weight'].dropna(), kde=False) #Selecting the rating column. I need to drop the NA's for the plot\n",
    "plt.title('Weight of user')\n",
    "plt.xlabel('Weight (kg)')\n",
    "plt.ylabel('Count')\n",
    "plt.show()"
   ]
  },
  {
   "cell_type": "markdown",
   "id": "cd7e7cab",
   "metadata": {},
   "source": [
    "### Step 3: Create the variable mean steps per participant. Hint: combine Pandas .loc and .mean() with the right axis argument (axis=....) for mean(). Look up the documentation of .loc and Pandas .mean() if you're unsure. "
   ]
  },
  {
   "cell_type": "markdown",
   "id": "a8468638",
   "metadata": {},
   "source": [
    "Before I start I first need to understand the step<br>\n",
    "The mean is = \"Add the numbers up, divide by the total number of values in the set.\" https://thestatsninja.com/2019/01/05/how-to-measure-typical/, so the mean is like the average.<br>\n",
    "So I need to calculate the average step that each person took. To do this, I need to sum up all the steps from a person together and then divide them by the amount of days that they walked<br>\n",
    "To begin, I first want to give myself an overview of the data"
   ]
  },
  {
   "cell_type": "code",
   "execution_count": 187,
   "id": "61763a59",
   "metadata": {
    "scrolled": false
   },
   "outputs": [
    {
     "data": {
      "text/html": [
       "<div>\n",
       "<style scoped>\n",
       "    .dataframe tbody tr th:only-of-type {\n",
       "        vertical-align: middle;\n",
       "    }\n",
       "\n",
       "    .dataframe tbody tr th {\n",
       "        vertical-align: top;\n",
       "    }\n",
       "\n",
       "    .dataframe thead th {\n",
       "        text-align: right;\n",
       "    }\n",
       "</style>\n",
       "<table border=\"1\" class=\"dataframe\">\n",
       "  <thead>\n",
       "    <tr style=\"text-align: right;\">\n",
       "      <th></th>\n",
       "      <th>id</th>\n",
       "      <th>20-6-2013</th>\n",
       "      <th>21-6-2013</th>\n",
       "      <th>22-6-2013</th>\n",
       "      <th>23-6-2013</th>\n",
       "      <th>24-6-2013</th>\n",
       "      <th>25-6-2013</th>\n",
       "      <th>26-6-2013</th>\n",
       "      <th>27-6-2013</th>\n",
       "      <th>28-6-2013</th>\n",
       "      <th>...</th>\n",
       "      <th>12-5-2014</th>\n",
       "      <th>13-5-2014</th>\n",
       "      <th>city</th>\n",
       "      <th>gender</th>\n",
       "      <th>age</th>\n",
       "      <th>hh_size</th>\n",
       "      <th>education</th>\n",
       "      <th>education_1</th>\n",
       "      <th>height</th>\n",
       "      <th>weight</th>\n",
       "    </tr>\n",
       "  </thead>\n",
       "  <tbody>\n",
       "    <tr>\n",
       "      <th>0</th>\n",
       "      <td>1</td>\n",
       "      <td>NaN</td>\n",
       "      <td>NaN</td>\n",
       "      <td>NaN</td>\n",
       "      <td>NaN</td>\n",
       "      <td>3941.0</td>\n",
       "      <td>15733.0</td>\n",
       "      <td>9929.0</td>\n",
       "      <td>12879.0</td>\n",
       "      <td>10541.0</td>\n",
       "      <td>...</td>\n",
       "      <td>NaN</td>\n",
       "      <td>NaN</td>\n",
       "      <td>Bordeaux</td>\n",
       "      <td>Male</td>\n",
       "      <td>25-34</td>\n",
       "      <td>4</td>\n",
       "      <td>4</td>\n",
       "      <td>Master or doctorate</td>\n",
       "      <td>178.0</td>\n",
       "      <td>98.0</td>\n",
       "    </tr>\n",
       "    <tr>\n",
       "      <th>1</th>\n",
       "      <td>2</td>\n",
       "      <td>NaN</td>\n",
       "      <td>NaN</td>\n",
       "      <td>10473.0</td>\n",
       "      <td>705.0</td>\n",
       "      <td>4287.0</td>\n",
       "      <td>5507.0</td>\n",
       "      <td>4024.0</td>\n",
       "      <td>3926.0</td>\n",
       "      <td>14595.0</td>\n",
       "      <td>...</td>\n",
       "      <td>NaN</td>\n",
       "      <td>NaN</td>\n",
       "      <td>Lille</td>\n",
       "      <td>Male</td>\n",
       "      <td>35-44</td>\n",
       "      <td>1</td>\n",
       "      <td>3</td>\n",
       "      <td>Bachelor</td>\n",
       "      <td>180.0</td>\n",
       "      <td>77.0</td>\n",
       "    </tr>\n",
       "    <tr>\n",
       "      <th>2</th>\n",
       "      <td>3</td>\n",
       "      <td>NaN</td>\n",
       "      <td>11428.0</td>\n",
       "      <td>12523.0</td>\n",
       "      <td>2553.0</td>\n",
       "      <td>190.0</td>\n",
       "      <td>2164.0</td>\n",
       "      <td>8185.0</td>\n",
       "      <td>9630.0</td>\n",
       "      <td>8983.0</td>\n",
       "      <td>...</td>\n",
       "      <td>1129.0</td>\n",
       "      <td>NaN</td>\n",
       "      <td>Montpellier</td>\n",
       "      <td>Male</td>\n",
       "      <td>25-34</td>\n",
       "      <td>2</td>\n",
       "      <td>2</td>\n",
       "      <td>Master or doctorate</td>\n",
       "      <td>180.0</td>\n",
       "      <td>83.0</td>\n",
       "    </tr>\n",
       "    <tr>\n",
       "      <th>3</th>\n",
       "      <td>4</td>\n",
       "      <td>NaN</td>\n",
       "      <td>NaN</td>\n",
       "      <td>NaN</td>\n",
       "      <td>NaN</td>\n",
       "      <td>NaN</td>\n",
       "      <td>NaN</td>\n",
       "      <td>NaN</td>\n",
       "      <td>NaN</td>\n",
       "      <td>NaN</td>\n",
       "      <td>...</td>\n",
       "      <td>NaN</td>\n",
       "      <td>NaN</td>\n",
       "      <td>Lyon</td>\n",
       "      <td>Male</td>\n",
       "      <td>&lt;25</td>\n",
       "      <td>1</td>\n",
       "      <td>1</td>\n",
       "      <td>Bachelor</td>\n",
       "      <td>178.0</td>\n",
       "      <td>80.0</td>\n",
       "    </tr>\n",
       "    <tr>\n",
       "      <th>4</th>\n",
       "      <td>5</td>\n",
       "      <td>NaN</td>\n",
       "      <td>NaN</td>\n",
       "      <td>NaN</td>\n",
       "      <td>NaN</td>\n",
       "      <td>NaN</td>\n",
       "      <td>NaN</td>\n",
       "      <td>NaN</td>\n",
       "      <td>NaN</td>\n",
       "      <td>NaN</td>\n",
       "      <td>...</td>\n",
       "      <td>NaN</td>\n",
       "      <td>NaN</td>\n",
       "      <td>Montpellier</td>\n",
       "      <td>Female</td>\n",
       "      <td>25-34</td>\n",
       "      <td>3</td>\n",
       "      <td>4</td>\n",
       "      <td>Bachelor</td>\n",
       "      <td>167.0</td>\n",
       "      <td>61.0</td>\n",
       "    </tr>\n",
       "    <tr>\n",
       "      <th>...</th>\n",
       "      <td>...</td>\n",
       "      <td>...</td>\n",
       "      <td>...</td>\n",
       "      <td>...</td>\n",
       "      <td>...</td>\n",
       "      <td>...</td>\n",
       "      <td>...</td>\n",
       "      <td>...</td>\n",
       "      <td>...</td>\n",
       "      <td>...</td>\n",
       "      <td>...</td>\n",
       "      <td>...</td>\n",
       "      <td>...</td>\n",
       "      <td>...</td>\n",
       "      <td>...</td>\n",
       "      <td>...</td>\n",
       "      <td>...</td>\n",
       "      <td>...</td>\n",
       "      <td>...</td>\n",
       "      <td>...</td>\n",
       "      <td>...</td>\n",
       "    </tr>\n",
       "    <tr>\n",
       "      <th>924</th>\n",
       "      <td>925</td>\n",
       "      <td>NaN</td>\n",
       "      <td>4571.0</td>\n",
       "      <td>10471.0</td>\n",
       "      <td>5899.0</td>\n",
       "      <td>15295.0</td>\n",
       "      <td>9178.0</td>\n",
       "      <td>9348.0</td>\n",
       "      <td>12229.0</td>\n",
       "      <td>13767.0</td>\n",
       "      <td>...</td>\n",
       "      <td>NaN</td>\n",
       "      <td>NaN</td>\n",
       "      <td>Lille</td>\n",
       "      <td>Female</td>\n",
       "      <td>45-54</td>\n",
       "      <td>3</td>\n",
       "      <td>4</td>\n",
       "      <td>Master or doctorate</td>\n",
       "      <td>165.0</td>\n",
       "      <td>59.0</td>\n",
       "    </tr>\n",
       "    <tr>\n",
       "      <th>925</th>\n",
       "      <td>926</td>\n",
       "      <td>NaN</td>\n",
       "      <td>NaN</td>\n",
       "      <td>NaN</td>\n",
       "      <td>NaN</td>\n",
       "      <td>NaN</td>\n",
       "      <td>NaN</td>\n",
       "      <td>NaN</td>\n",
       "      <td>NaN</td>\n",
       "      <td>NaN</td>\n",
       "      <td>...</td>\n",
       "      <td>NaN</td>\n",
       "      <td>NaN</td>\n",
       "      <td>Lille</td>\n",
       "      <td>Male</td>\n",
       "      <td>&lt;25</td>\n",
       "      <td>3</td>\n",
       "      <td>5</td>\n",
       "      <td>Bachelor</td>\n",
       "      <td>192.0</td>\n",
       "      <td>90.0</td>\n",
       "    </tr>\n",
       "    <tr>\n",
       "      <th>926</th>\n",
       "      <td>927</td>\n",
       "      <td>NaN</td>\n",
       "      <td>NaN</td>\n",
       "      <td>NaN</td>\n",
       "      <td>1623.0</td>\n",
       "      <td>NaN</td>\n",
       "      <td>NaN</td>\n",
       "      <td>NaN</td>\n",
       "      <td>NaN</td>\n",
       "      <td>NaN</td>\n",
       "      <td>...</td>\n",
       "      <td>NaN</td>\n",
       "      <td>NaN</td>\n",
       "      <td>Montpellier</td>\n",
       "      <td>Male</td>\n",
       "      <td>35-44</td>\n",
       "      <td>2</td>\n",
       "      <td>2</td>\n",
       "      <td>Bachelor</td>\n",
       "      <td>181.0</td>\n",
       "      <td>71.0</td>\n",
       "    </tr>\n",
       "    <tr>\n",
       "      <th>927</th>\n",
       "      <td>928</td>\n",
       "      <td>NaN</td>\n",
       "      <td>NaN</td>\n",
       "      <td>14411.0</td>\n",
       "      <td>14364.0</td>\n",
       "      <td>26629.0</td>\n",
       "      <td>13092.0</td>\n",
       "      <td>9266.0</td>\n",
       "      <td>14949.0</td>\n",
       "      <td>43238.0</td>\n",
       "      <td>...</td>\n",
       "      <td>NaN</td>\n",
       "      <td>NaN</td>\n",
       "      <td>Lille</td>\n",
       "      <td>Female</td>\n",
       "      <td>55-64</td>\n",
       "      <td>1</td>\n",
       "      <td>1</td>\n",
       "      <td>High school</td>\n",
       "      <td>172.0</td>\n",
       "      <td>65.0</td>\n",
       "    </tr>\n",
       "    <tr>\n",
       "      <th>928</th>\n",
       "      <td>929</td>\n",
       "      <td>NaN</td>\n",
       "      <td>3324.0</td>\n",
       "      <td>4507.0</td>\n",
       "      <td>14364.0</td>\n",
       "      <td>4098.0</td>\n",
       "      <td>7299.0</td>\n",
       "      <td>11534.0</td>\n",
       "      <td>10125.0</td>\n",
       "      <td>7700.0</td>\n",
       "      <td>...</td>\n",
       "      <td>NaN</td>\n",
       "      <td>NaN</td>\n",
       "      <td>Lyon</td>\n",
       "      <td>Male</td>\n",
       "      <td>25-34</td>\n",
       "      <td>2</td>\n",
       "      <td>2</td>\n",
       "      <td>High school</td>\n",
       "      <td>180.0</td>\n",
       "      <td>76.0</td>\n",
       "    </tr>\n",
       "  </tbody>\n",
       "</table>\n",
       "<p>924 rows × 337 columns</p>\n",
       "</div>"
      ],
      "text/plain": [
       "      id  20-6-2013  21-6-2013  22-6-2013  23-6-2013  24-6-2013  25-6-2013  \\\n",
       "0      1        NaN        NaN        NaN        NaN     3941.0    15733.0   \n",
       "1      2        NaN        NaN    10473.0      705.0     4287.0     5507.0   \n",
       "2      3        NaN    11428.0    12523.0     2553.0      190.0     2164.0   \n",
       "3      4        NaN        NaN        NaN        NaN        NaN        NaN   \n",
       "4      5        NaN        NaN        NaN        NaN        NaN        NaN   \n",
       "..   ...        ...        ...        ...        ...        ...        ...   \n",
       "924  925        NaN     4571.0    10471.0     5899.0    15295.0     9178.0   \n",
       "925  926        NaN        NaN        NaN        NaN        NaN        NaN   \n",
       "926  927        NaN        NaN        NaN     1623.0        NaN        NaN   \n",
       "927  928        NaN        NaN    14411.0    14364.0    26629.0    13092.0   \n",
       "928  929        NaN     3324.0     4507.0    14364.0     4098.0     7299.0   \n",
       "\n",
       "     26-6-2013  27-6-2013  28-6-2013  ...  12-5-2014  13-5-2014         city  \\\n",
       "0       9929.0    12879.0    10541.0  ...        NaN        NaN     Bordeaux   \n",
       "1       4024.0     3926.0    14595.0  ...        NaN        NaN        Lille   \n",
       "2       8185.0     9630.0     8983.0  ...     1129.0        NaN  Montpellier   \n",
       "3          NaN        NaN        NaN  ...        NaN        NaN         Lyon   \n",
       "4          NaN        NaN        NaN  ...        NaN        NaN  Montpellier   \n",
       "..         ...        ...        ...  ...        ...        ...          ...   \n",
       "924     9348.0    12229.0    13767.0  ...        NaN        NaN        Lille   \n",
       "925        NaN        NaN        NaN  ...        NaN        NaN        Lille   \n",
       "926        NaN        NaN        NaN  ...        NaN        NaN  Montpellier   \n",
       "927     9266.0    14949.0    43238.0  ...        NaN        NaN        Lille   \n",
       "928    11534.0    10125.0     7700.0  ...        NaN        NaN         Lyon   \n",
       "\n",
       "     gender    age  hh_size  education          education_1  height  weight  \n",
       "0      Male  25-34        4          4  Master or doctorate   178.0    98.0  \n",
       "1      Male  35-44        1          3             Bachelor   180.0    77.0  \n",
       "2      Male  25-34        2          2  Master or doctorate   180.0    83.0  \n",
       "3      Male    <25        1          1             Bachelor   178.0    80.0  \n",
       "4    Female  25-34        3          4             Bachelor   167.0    61.0  \n",
       "..      ...    ...      ...        ...                  ...     ...     ...  \n",
       "924  Female  45-54        3          4  Master or doctorate   165.0    59.0  \n",
       "925    Male    <25        3          5             Bachelor   192.0    90.0  \n",
       "926    Male  35-44        2          2             Bachelor   181.0    71.0  \n",
       "927  Female  55-64        1          1          High school   172.0    65.0  \n",
       "928    Male  25-34        2          2          High school   180.0    76.0  \n",
       "\n",
       "[924 rows x 337 columns]"
      ]
     },
     "execution_count": 187,
     "metadata": {},
     "output_type": "execute_result"
    }
   ],
   "source": [
    "df"
   ]
  },
  {
   "cell_type": "markdown",
   "id": "a5393e8f",
   "metadata": {},
   "source": [
    "I need to complete this step with .loc and .mean<br>\n",
    "First I want to remember myself what .loc means.<br>\n",
    ".loc can give me an individual row information, as seen below"
   ]
  },
  {
   "cell_type": "code",
   "execution_count": 188,
   "id": "7288e308",
   "metadata": {},
   "outputs": [
    {
     "data": {
      "text/plain": [
       "id                    2\n",
       "20-6-2013           NaN\n",
       "21-6-2013           NaN\n",
       "22-6-2013       10473.0\n",
       "23-6-2013         705.0\n",
       "                 ...   \n",
       "hh_size               1\n",
       "education             3\n",
       "education_1    Bachelor\n",
       "height            180.0\n",
       "weight             77.0\n",
       "Name: 1, Length: 337, dtype: object"
      ]
     },
     "execution_count": 188,
     "metadata": {},
     "output_type": "execute_result"
    }
   ],
   "source": [
    "df.loc[1]"
   ]
  },
  {
   "cell_type": "markdown",
   "id": "02528863",
   "metadata": {},
   "source": [
    "\"mean() function can be used to calculate mean/average of a given list of numbers. It returns mean of the data set passed as parameters.\" https://www.geeksforgeeks.org/python-statistics-mean-function/ <br>\n",
    "So .mean sums up all the ints in a row for me"
   ]
  },
  {
   "cell_type": "code",
   "execution_count": 189,
   "id": "e14422b4",
   "metadata": {},
   "outputs": [
    {
     "data": {
      "text/plain": [
       "0       9907.035294\n",
       "1       5519.720238\n",
       "2       8032.196078\n",
       "3       2917.120000\n",
       "4       4866.016949\n",
       "           ...     \n",
       "924     5966.979167\n",
       "925     4385.636364\n",
       "926     9797.142857\n",
       "927    14781.639535\n",
       "928     7325.781690\n",
       "Length: 924, dtype: float64"
      ]
     },
     "execution_count": 189,
     "metadata": {},
     "output_type": "execute_result"
    }
   ],
   "source": [
    "df.mean(axis='columns')"
   ]
  },
  {
   "cell_type": "markdown",
   "id": "5339a2cf",
   "metadata": {},
   "source": [
    "The problem that occurs is that means takes all the ints from the rows, so small numbers like education are also taken in the average. This lowers their means step per participant a lot, so with .loc I can remove these ints from being taken. So I have to combine them both (NaN will be overlooked!)"
   ]
  },
  {
   "cell_type": "markdown",
   "id": "c8c4f998",
   "metadata": {},
   "source": [
    "First, lets create a new column<br>\n",
    "Second, the .loc part, with help from https://www.statology.org/pandas-exclude-column/<br>\n",
    "Third, apply .mean"
   ]
  },
  {
   "cell_type": "code",
   "execution_count": 190,
   "id": "4ea888d4",
   "metadata": {},
   "outputs": [],
   "source": [
    "df[\"means_step_per_participant\"] = df.loc[:, ~df.columns.isin([\"education\", \"hh_size\", \"age\", \"height\", \"weight\"])].mean(axis=\"columns\")"
   ]
  },
  {
   "cell_type": "markdown",
   "id": "ae1205fe",
   "metadata": {},
   "source": [
    "Now to check if it worked:<br>\n",
    "And it did, because when looking at .mean from above, the first row first got 9907 (with edu, age etc.), and now it has 10144. (without edu, age etc.)<br>\n",
    "So for person one in the row, he walked an average of 10144 steps when walking"
   ]
  },
  {
   "cell_type": "code",
   "execution_count": 191,
   "id": "4de5563e",
   "metadata": {},
   "outputs": [
    {
     "data": {
      "text/html": [
       "<div>\n",
       "<style scoped>\n",
       "    .dataframe tbody tr th:only-of-type {\n",
       "        vertical-align: middle;\n",
       "    }\n",
       "\n",
       "    .dataframe tbody tr th {\n",
       "        vertical-align: top;\n",
       "    }\n",
       "\n",
       "    .dataframe thead th {\n",
       "        text-align: right;\n",
       "    }\n",
       "</style>\n",
       "<table border=\"1\" class=\"dataframe\">\n",
       "  <thead>\n",
       "    <tr style=\"text-align: right;\">\n",
       "      <th></th>\n",
       "      <th>id</th>\n",
       "      <th>20-6-2013</th>\n",
       "      <th>21-6-2013</th>\n",
       "      <th>22-6-2013</th>\n",
       "      <th>23-6-2013</th>\n",
       "      <th>24-6-2013</th>\n",
       "      <th>25-6-2013</th>\n",
       "      <th>26-6-2013</th>\n",
       "      <th>27-6-2013</th>\n",
       "      <th>28-6-2013</th>\n",
       "      <th>...</th>\n",
       "      <th>13-5-2014</th>\n",
       "      <th>city</th>\n",
       "      <th>gender</th>\n",
       "      <th>age</th>\n",
       "      <th>hh_size</th>\n",
       "      <th>education</th>\n",
       "      <th>education_1</th>\n",
       "      <th>height</th>\n",
       "      <th>weight</th>\n",
       "      <th>means_step_per_participant</th>\n",
       "    </tr>\n",
       "  </thead>\n",
       "  <tbody>\n",
       "    <tr>\n",
       "      <th>0</th>\n",
       "      <td>1</td>\n",
       "      <td>NaN</td>\n",
       "      <td>NaN</td>\n",
       "      <td>NaN</td>\n",
       "      <td>NaN</td>\n",
       "      <td>3941.0</td>\n",
       "      <td>15733.0</td>\n",
       "      <td>9929.0</td>\n",
       "      <td>12879.0</td>\n",
       "      <td>10541.0</td>\n",
       "      <td>...</td>\n",
       "      <td>NaN</td>\n",
       "      <td>Bordeaux</td>\n",
       "      <td>Male</td>\n",
       "      <td>25-34</td>\n",
       "      <td>4</td>\n",
       "      <td>4</td>\n",
       "      <td>Master or doctorate</td>\n",
       "      <td>178.0</td>\n",
       "      <td>98.0</td>\n",
       "      <td>10144.048193</td>\n",
       "    </tr>\n",
       "    <tr>\n",
       "      <th>1</th>\n",
       "      <td>2</td>\n",
       "      <td>NaN</td>\n",
       "      <td>NaN</td>\n",
       "      <td>10473.0</td>\n",
       "      <td>705.0</td>\n",
       "      <td>4287.0</td>\n",
       "      <td>5507.0</td>\n",
       "      <td>4024.0</td>\n",
       "      <td>3926.0</td>\n",
       "      <td>14595.0</td>\n",
       "      <td>...</td>\n",
       "      <td>NaN</td>\n",
       "      <td>Lille</td>\n",
       "      <td>Male</td>\n",
       "      <td>35-44</td>\n",
       "      <td>1</td>\n",
       "      <td>3</td>\n",
       "      <td>Bachelor</td>\n",
       "      <td>180.0</td>\n",
       "      <td>77.0</td>\n",
       "      <td>5652.756098</td>\n",
       "    </tr>\n",
       "    <tr>\n",
       "      <th>2</th>\n",
       "      <td>3</td>\n",
       "      <td>NaN</td>\n",
       "      <td>11428.0</td>\n",
       "      <td>12523.0</td>\n",
       "      <td>2553.0</td>\n",
       "      <td>190.0</td>\n",
       "      <td>2164.0</td>\n",
       "      <td>8185.0</td>\n",
       "      <td>9630.0</td>\n",
       "      <td>8983.0</td>\n",
       "      <td>...</td>\n",
       "      <td>NaN</td>\n",
       "      <td>Montpellier</td>\n",
       "      <td>Male</td>\n",
       "      <td>25-34</td>\n",
       "      <td>2</td>\n",
       "      <td>2</td>\n",
       "      <td>Master or doctorate</td>\n",
       "      <td>180.0</td>\n",
       "      <td>83.0</td>\n",
       "      <td>8246.033557</td>\n",
       "    </tr>\n",
       "    <tr>\n",
       "      <th>3</th>\n",
       "      <td>4</td>\n",
       "      <td>NaN</td>\n",
       "      <td>NaN</td>\n",
       "      <td>NaN</td>\n",
       "      <td>NaN</td>\n",
       "      <td>NaN</td>\n",
       "      <td>NaN</td>\n",
       "      <td>NaN</td>\n",
       "      <td>NaN</td>\n",
       "      <td>NaN</td>\n",
       "      <td>...</td>\n",
       "      <td>NaN</td>\n",
       "      <td>Lyon</td>\n",
       "      <td>Male</td>\n",
       "      <td>&lt;25</td>\n",
       "      <td>1</td>\n",
       "      <td>1</td>\n",
       "      <td>Bachelor</td>\n",
       "      <td>178.0</td>\n",
       "      <td>80.0</td>\n",
       "      <td>3460.380952</td>\n",
       "    </tr>\n",
       "    <tr>\n",
       "      <th>4</th>\n",
       "      <td>5</td>\n",
       "      <td>NaN</td>\n",
       "      <td>NaN</td>\n",
       "      <td>NaN</td>\n",
       "      <td>NaN</td>\n",
       "      <td>NaN</td>\n",
       "      <td>NaN</td>\n",
       "      <td>NaN</td>\n",
       "      <td>NaN</td>\n",
       "      <td>NaN</td>\n",
       "      <td>...</td>\n",
       "      <td>NaN</td>\n",
       "      <td>Montpellier</td>\n",
       "      <td>Female</td>\n",
       "      <td>25-34</td>\n",
       "      <td>3</td>\n",
       "      <td>4</td>\n",
       "      <td>Bachelor</td>\n",
       "      <td>167.0</td>\n",
       "      <td>61.0</td>\n",
       "      <td>5215.636364</td>\n",
       "    </tr>\n",
       "    <tr>\n",
       "      <th>...</th>\n",
       "      <td>...</td>\n",
       "      <td>...</td>\n",
       "      <td>...</td>\n",
       "      <td>...</td>\n",
       "      <td>...</td>\n",
       "      <td>...</td>\n",
       "      <td>...</td>\n",
       "      <td>...</td>\n",
       "      <td>...</td>\n",
       "      <td>...</td>\n",
       "      <td>...</td>\n",
       "      <td>...</td>\n",
       "      <td>...</td>\n",
       "      <td>...</td>\n",
       "      <td>...</td>\n",
       "      <td>...</td>\n",
       "      <td>...</td>\n",
       "      <td>...</td>\n",
       "      <td>...</td>\n",
       "      <td>...</td>\n",
       "      <td>...</td>\n",
       "    </tr>\n",
       "    <tr>\n",
       "      <th>924</th>\n",
       "      <td>925</td>\n",
       "      <td>NaN</td>\n",
       "      <td>4571.0</td>\n",
       "      <td>10471.0</td>\n",
       "      <td>5899.0</td>\n",
       "      <td>15295.0</td>\n",
       "      <td>9178.0</td>\n",
       "      <td>9348.0</td>\n",
       "      <td>12229.0</td>\n",
       "      <td>13767.0</td>\n",
       "      <td>...</td>\n",
       "      <td>NaN</td>\n",
       "      <td>Lille</td>\n",
       "      <td>Female</td>\n",
       "      <td>45-54</td>\n",
       "      <td>3</td>\n",
       "      <td>4</td>\n",
       "      <td>Master or doctorate</td>\n",
       "      <td>165.0</td>\n",
       "      <td>59.0</td>\n",
       "      <td>6223.902174</td>\n",
       "    </tr>\n",
       "    <tr>\n",
       "      <th>925</th>\n",
       "      <td>926</td>\n",
       "      <td>NaN</td>\n",
       "      <td>NaN</td>\n",
       "      <td>NaN</td>\n",
       "      <td>NaN</td>\n",
       "      <td>NaN</td>\n",
       "      <td>NaN</td>\n",
       "      <td>NaN</td>\n",
       "      <td>NaN</td>\n",
       "      <td>NaN</td>\n",
       "      <td>...</td>\n",
       "      <td>NaN</td>\n",
       "      <td>Lille</td>\n",
       "      <td>Male</td>\n",
       "      <td>&lt;25</td>\n",
       "      <td>3</td>\n",
       "      <td>5</td>\n",
       "      <td>Bachelor</td>\n",
       "      <td>192.0</td>\n",
       "      <td>90.0</td>\n",
       "      <td>4723.921569</td>\n",
       "    </tr>\n",
       "    <tr>\n",
       "      <th>926</th>\n",
       "      <td>927</td>\n",
       "      <td>NaN</td>\n",
       "      <td>NaN</td>\n",
       "      <td>NaN</td>\n",
       "      <td>1623.0</td>\n",
       "      <td>NaN</td>\n",
       "      <td>NaN</td>\n",
       "      <td>NaN</td>\n",
       "      <td>NaN</td>\n",
       "      <td>NaN</td>\n",
       "      <td>...</td>\n",
       "      <td>NaN</td>\n",
       "      <td>Montpellier</td>\n",
       "      <td>Male</td>\n",
       "      <td>35-44</td>\n",
       "      <td>2</td>\n",
       "      <td>2</td>\n",
       "      <td>Bachelor</td>\n",
       "      <td>181.0</td>\n",
       "      <td>71.0</td>\n",
       "      <td>9986.135922</td>\n",
       "    </tr>\n",
       "    <tr>\n",
       "      <th>927</th>\n",
       "      <td>928</td>\n",
       "      <td>NaN</td>\n",
       "      <td>NaN</td>\n",
       "      <td>14411.0</td>\n",
       "      <td>14364.0</td>\n",
       "      <td>26629.0</td>\n",
       "      <td>13092.0</td>\n",
       "      <td>9266.0</td>\n",
       "      <td>14949.0</td>\n",
       "      <td>43238.0</td>\n",
       "      <td>...</td>\n",
       "      <td>NaN</td>\n",
       "      <td>Lille</td>\n",
       "      <td>Female</td>\n",
       "      <td>55-64</td>\n",
       "      <td>1</td>\n",
       "      <td>1</td>\n",
       "      <td>High school</td>\n",
       "      <td>172.0</td>\n",
       "      <td>65.0</td>\n",
       "      <td>15499.780488</td>\n",
       "    </tr>\n",
       "    <tr>\n",
       "      <th>928</th>\n",
       "      <td>929</td>\n",
       "      <td>NaN</td>\n",
       "      <td>3324.0</td>\n",
       "      <td>4507.0</td>\n",
       "      <td>14364.0</td>\n",
       "      <td>4098.0</td>\n",
       "      <td>7299.0</td>\n",
       "      <td>11534.0</td>\n",
       "      <td>10125.0</td>\n",
       "      <td>7700.0</td>\n",
       "      <td>...</td>\n",
       "      <td>NaN</td>\n",
       "      <td>Lyon</td>\n",
       "      <td>Male</td>\n",
       "      <td>25-34</td>\n",
       "      <td>2</td>\n",
       "      <td>2</td>\n",
       "      <td>High school</td>\n",
       "      <td>180.0</td>\n",
       "      <td>76.0</td>\n",
       "      <td>7536.239130</td>\n",
       "    </tr>\n",
       "  </tbody>\n",
       "</table>\n",
       "<p>924 rows × 338 columns</p>\n",
       "</div>"
      ],
      "text/plain": [
       "      id  20-6-2013  21-6-2013  22-6-2013  23-6-2013  24-6-2013  25-6-2013  \\\n",
       "0      1        NaN        NaN        NaN        NaN     3941.0    15733.0   \n",
       "1      2        NaN        NaN    10473.0      705.0     4287.0     5507.0   \n",
       "2      3        NaN    11428.0    12523.0     2553.0      190.0     2164.0   \n",
       "3      4        NaN        NaN        NaN        NaN        NaN        NaN   \n",
       "4      5        NaN        NaN        NaN        NaN        NaN        NaN   \n",
       "..   ...        ...        ...        ...        ...        ...        ...   \n",
       "924  925        NaN     4571.0    10471.0     5899.0    15295.0     9178.0   \n",
       "925  926        NaN        NaN        NaN        NaN        NaN        NaN   \n",
       "926  927        NaN        NaN        NaN     1623.0        NaN        NaN   \n",
       "927  928        NaN        NaN    14411.0    14364.0    26629.0    13092.0   \n",
       "928  929        NaN     3324.0     4507.0    14364.0     4098.0     7299.0   \n",
       "\n",
       "     26-6-2013  27-6-2013  28-6-2013  ...  13-5-2014         city  gender  \\\n",
       "0       9929.0    12879.0    10541.0  ...        NaN     Bordeaux    Male   \n",
       "1       4024.0     3926.0    14595.0  ...        NaN        Lille    Male   \n",
       "2       8185.0     9630.0     8983.0  ...        NaN  Montpellier    Male   \n",
       "3          NaN        NaN        NaN  ...        NaN         Lyon    Male   \n",
       "4          NaN        NaN        NaN  ...        NaN  Montpellier  Female   \n",
       "..         ...        ...        ...  ...        ...          ...     ...   \n",
       "924     9348.0    12229.0    13767.0  ...        NaN        Lille  Female   \n",
       "925        NaN        NaN        NaN  ...        NaN        Lille    Male   \n",
       "926        NaN        NaN        NaN  ...        NaN  Montpellier    Male   \n",
       "927     9266.0    14949.0    43238.0  ...        NaN        Lille  Female   \n",
       "928    11534.0    10125.0     7700.0  ...        NaN         Lyon    Male   \n",
       "\n",
       "       age  hh_size  education          education_1  height  weight  \\\n",
       "0    25-34        4          4  Master or doctorate   178.0    98.0   \n",
       "1    35-44        1          3             Bachelor   180.0    77.0   \n",
       "2    25-34        2          2  Master or doctorate   180.0    83.0   \n",
       "3      <25        1          1             Bachelor   178.0    80.0   \n",
       "4    25-34        3          4             Bachelor   167.0    61.0   \n",
       "..     ...      ...        ...                  ...     ...     ...   \n",
       "924  45-54        3          4  Master or doctorate   165.0    59.0   \n",
       "925    <25        3          5             Bachelor   192.0    90.0   \n",
       "926  35-44        2          2             Bachelor   181.0    71.0   \n",
       "927  55-64        1          1          High school   172.0    65.0   \n",
       "928  25-34        2          2          High school   180.0    76.0   \n",
       "\n",
       "     means_step_per_participant  \n",
       "0                  10144.048193  \n",
       "1                   5652.756098  \n",
       "2                   8246.033557  \n",
       "3                   3460.380952  \n",
       "4                   5215.636364  \n",
       "..                          ...  \n",
       "924                 6223.902174  \n",
       "925                 4723.921569  \n",
       "926                 9986.135922  \n",
       "927                15499.780488  \n",
       "928                 7536.239130  \n",
       "\n",
       "[924 rows x 338 columns]"
      ]
     },
     "execution_count": 191,
     "metadata": {},
     "output_type": "execute_result"
    }
   ],
   "source": [
    "df"
   ]
  },
  {
   "cell_type": "markdown",
   "id": "e9e2472d",
   "metadata": {},
   "source": [
    "### Step 4: Show the head() of the resulting data frame"
   ]
  },
  {
   "cell_type": "code",
   "execution_count": 192,
   "id": "f1896840",
   "metadata": {},
   "outputs": [
    {
     "data": {
      "text/html": [
       "<div>\n",
       "<style scoped>\n",
       "    .dataframe tbody tr th:only-of-type {\n",
       "        vertical-align: middle;\n",
       "    }\n",
       "\n",
       "    .dataframe tbody tr th {\n",
       "        vertical-align: top;\n",
       "    }\n",
       "\n",
       "    .dataframe thead th {\n",
       "        text-align: right;\n",
       "    }\n",
       "</style>\n",
       "<table border=\"1\" class=\"dataframe\">\n",
       "  <thead>\n",
       "    <tr style=\"text-align: right;\">\n",
       "      <th></th>\n",
       "      <th>id</th>\n",
       "      <th>20-6-2013</th>\n",
       "      <th>21-6-2013</th>\n",
       "      <th>22-6-2013</th>\n",
       "      <th>23-6-2013</th>\n",
       "      <th>24-6-2013</th>\n",
       "      <th>25-6-2013</th>\n",
       "      <th>26-6-2013</th>\n",
       "      <th>27-6-2013</th>\n",
       "      <th>28-6-2013</th>\n",
       "      <th>...</th>\n",
       "      <th>13-5-2014</th>\n",
       "      <th>city</th>\n",
       "      <th>gender</th>\n",
       "      <th>age</th>\n",
       "      <th>hh_size</th>\n",
       "      <th>education</th>\n",
       "      <th>education_1</th>\n",
       "      <th>height</th>\n",
       "      <th>weight</th>\n",
       "      <th>means_step_per_participant</th>\n",
       "    </tr>\n",
       "  </thead>\n",
       "  <tbody>\n",
       "    <tr>\n",
       "      <th>0</th>\n",
       "      <td>1</td>\n",
       "      <td>NaN</td>\n",
       "      <td>NaN</td>\n",
       "      <td>NaN</td>\n",
       "      <td>NaN</td>\n",
       "      <td>3941.0</td>\n",
       "      <td>15733.0</td>\n",
       "      <td>9929.0</td>\n",
       "      <td>12879.0</td>\n",
       "      <td>10541.0</td>\n",
       "      <td>...</td>\n",
       "      <td>NaN</td>\n",
       "      <td>Bordeaux</td>\n",
       "      <td>Male</td>\n",
       "      <td>25-34</td>\n",
       "      <td>4</td>\n",
       "      <td>4</td>\n",
       "      <td>Master or doctorate</td>\n",
       "      <td>178.0</td>\n",
       "      <td>98.0</td>\n",
       "      <td>10144.048193</td>\n",
       "    </tr>\n",
       "    <tr>\n",
       "      <th>1</th>\n",
       "      <td>2</td>\n",
       "      <td>NaN</td>\n",
       "      <td>NaN</td>\n",
       "      <td>10473.0</td>\n",
       "      <td>705.0</td>\n",
       "      <td>4287.0</td>\n",
       "      <td>5507.0</td>\n",
       "      <td>4024.0</td>\n",
       "      <td>3926.0</td>\n",
       "      <td>14595.0</td>\n",
       "      <td>...</td>\n",
       "      <td>NaN</td>\n",
       "      <td>Lille</td>\n",
       "      <td>Male</td>\n",
       "      <td>35-44</td>\n",
       "      <td>1</td>\n",
       "      <td>3</td>\n",
       "      <td>Bachelor</td>\n",
       "      <td>180.0</td>\n",
       "      <td>77.0</td>\n",
       "      <td>5652.756098</td>\n",
       "    </tr>\n",
       "    <tr>\n",
       "      <th>2</th>\n",
       "      <td>3</td>\n",
       "      <td>NaN</td>\n",
       "      <td>11428.0</td>\n",
       "      <td>12523.0</td>\n",
       "      <td>2553.0</td>\n",
       "      <td>190.0</td>\n",
       "      <td>2164.0</td>\n",
       "      <td>8185.0</td>\n",
       "      <td>9630.0</td>\n",
       "      <td>8983.0</td>\n",
       "      <td>...</td>\n",
       "      <td>NaN</td>\n",
       "      <td>Montpellier</td>\n",
       "      <td>Male</td>\n",
       "      <td>25-34</td>\n",
       "      <td>2</td>\n",
       "      <td>2</td>\n",
       "      <td>Master or doctorate</td>\n",
       "      <td>180.0</td>\n",
       "      <td>83.0</td>\n",
       "      <td>8246.033557</td>\n",
       "    </tr>\n",
       "    <tr>\n",
       "      <th>3</th>\n",
       "      <td>4</td>\n",
       "      <td>NaN</td>\n",
       "      <td>NaN</td>\n",
       "      <td>NaN</td>\n",
       "      <td>NaN</td>\n",
       "      <td>NaN</td>\n",
       "      <td>NaN</td>\n",
       "      <td>NaN</td>\n",
       "      <td>NaN</td>\n",
       "      <td>NaN</td>\n",
       "      <td>...</td>\n",
       "      <td>NaN</td>\n",
       "      <td>Lyon</td>\n",
       "      <td>Male</td>\n",
       "      <td>&lt;25</td>\n",
       "      <td>1</td>\n",
       "      <td>1</td>\n",
       "      <td>Bachelor</td>\n",
       "      <td>178.0</td>\n",
       "      <td>80.0</td>\n",
       "      <td>3460.380952</td>\n",
       "    </tr>\n",
       "    <tr>\n",
       "      <th>4</th>\n",
       "      <td>5</td>\n",
       "      <td>NaN</td>\n",
       "      <td>NaN</td>\n",
       "      <td>NaN</td>\n",
       "      <td>NaN</td>\n",
       "      <td>NaN</td>\n",
       "      <td>NaN</td>\n",
       "      <td>NaN</td>\n",
       "      <td>NaN</td>\n",
       "      <td>NaN</td>\n",
       "      <td>...</td>\n",
       "      <td>NaN</td>\n",
       "      <td>Montpellier</td>\n",
       "      <td>Female</td>\n",
       "      <td>25-34</td>\n",
       "      <td>3</td>\n",
       "      <td>4</td>\n",
       "      <td>Bachelor</td>\n",
       "      <td>167.0</td>\n",
       "      <td>61.0</td>\n",
       "      <td>5215.636364</td>\n",
       "    </tr>\n",
       "  </tbody>\n",
       "</table>\n",
       "<p>5 rows × 338 columns</p>\n",
       "</div>"
      ],
      "text/plain": [
       "   id  20-6-2013  21-6-2013  22-6-2013  23-6-2013  24-6-2013  25-6-2013  \\\n",
       "0   1        NaN        NaN        NaN        NaN     3941.0    15733.0   \n",
       "1   2        NaN        NaN    10473.0      705.0     4287.0     5507.0   \n",
       "2   3        NaN    11428.0    12523.0     2553.0      190.0     2164.0   \n",
       "3   4        NaN        NaN        NaN        NaN        NaN        NaN   \n",
       "4   5        NaN        NaN        NaN        NaN        NaN        NaN   \n",
       "\n",
       "   26-6-2013  27-6-2013  28-6-2013  ...  13-5-2014         city  gender  \\\n",
       "0     9929.0    12879.0    10541.0  ...        NaN     Bordeaux    Male   \n",
       "1     4024.0     3926.0    14595.0  ...        NaN        Lille    Male   \n",
       "2     8185.0     9630.0     8983.0  ...        NaN  Montpellier    Male   \n",
       "3        NaN        NaN        NaN  ...        NaN         Lyon    Male   \n",
       "4        NaN        NaN        NaN  ...        NaN  Montpellier  Female   \n",
       "\n",
       "     age  hh_size  education          education_1  height  weight  \\\n",
       "0  25-34        4          4  Master or doctorate   178.0    98.0   \n",
       "1  35-44        1          3             Bachelor   180.0    77.0   \n",
       "2  25-34        2          2  Master or doctorate   180.0    83.0   \n",
       "3    <25        1          1             Bachelor   178.0    80.0   \n",
       "4  25-34        3          4             Bachelor   167.0    61.0   \n",
       "\n",
       "   means_step_per_participant  \n",
       "0                10144.048193  \n",
       "1                 5652.756098  \n",
       "2                 8246.033557  \n",
       "3                 3460.380952  \n",
       "4                 5215.636364  \n",
       "\n",
       "[5 rows x 338 columns]"
      ]
     },
     "execution_count": 192,
     "metadata": {},
     "output_type": "execute_result"
    }
   ],
   "source": [
    "df.head()"
   ]
  },
  {
   "cell_type": "markdown",
   "id": "af16738c",
   "metadata": {},
   "source": [
    "## Exploratory data analysis"
   ]
  },
  {
   "cell_type": "markdown",
   "id": "44aa6125",
   "metadata": {},
   "source": [
    "### Step 1: An analysis of mean steps per participant"
   ]
  },
  {
   "cell_type": "markdown",
   "id": "96eb4ef7",
   "metadata": {},
   "source": [
    "#### Graph of the distribution (e.g., histogram, box plot, density plot, violin plot)"
   ]
  },
  {
   "cell_type": "markdown",
   "id": "2a206cb3",
   "metadata": {},
   "source": [
    "Now I want to look at 'mean steps per participant' in different graphs. The graphs I could find in the examples of on the site on sns<br>\n",
    "I first wanted to experiment with the graphs and just put them all down"
   ]
  },
  {
   "cell_type": "code",
   "execution_count": 193,
   "id": "e3d0b51c",
   "metadata": {},
   "outputs": [
    {
     "data": {
      "image/png": "[encoded data removed]",
      "text/plain": [
       "<Figure size 360x360 with 1 Axes>"
      ]
     },
     "metadata": {
      "needs_background": "light"
     },
     "output_type": "display_data"
    }
   ],
   "source": [
    "sns.displot(df['means_step_per_participant'].dropna(), kde=False)\n",
    "plt.title('Average steps per participants')\n",
    "plt.xlabel('Steps')\n",
    "plt.ylabel('Participants')\n",
    "plt.show()"
   ]
  },
  {
   "cell_type": "code",
   "execution_count": 194,
   "id": "7b8329d8",
   "metadata": {},
   "outputs": [
    {
     "data": {
      "text/plain": [
       "<AxesSubplot:xlabel='means_step_per_participant'>"
      ]
     },
     "execution_count": 194,
     "metadata": {},
     "output_type": "execute_result"
    },
    {
     "data": {
      "image/png": "[encoded data removed]",
      "text/plain": [
       "<Figure size 432x288 with 1 Axes>"
      ]
     },
     "metadata": {
      "needs_background": "light"
     },
     "output_type": "display_data"
    }
   ],
   "source": [
    "sns.boxplot(x=df['means_step_per_participant'])"
   ]
  },
  {
   "cell_type": "code",
   "execution_count": 195,
   "id": "41580a4b",
   "metadata": {},
   "outputs": [
    {
     "data": {
      "image/png": "[encoded data removed]",
      "text/plain": [
       "<Figure size 360x360 with 1 Axes>"
      ]
     },
     "metadata": {
      "needs_background": "light"
     },
     "output_type": "display_data"
    }
   ],
   "source": [
    "sns.displot(df, x='means_step_per_participant', kind=\"kde\")\n",
    "plt.title('Density average steps per participants')\n",
    "plt.xlabel('Steps')\n",
    "plt.ylabel('Density')\n",
    "plt.show()"
   ]
  },
  {
   "cell_type": "code",
   "execution_count": 196,
   "id": "62b6f144",
   "metadata": {},
   "outputs": [
    {
     "data": {
      "text/plain": [
       "<AxesSubplot:xlabel='means_step_per_participant'>"
      ]
     },
     "execution_count": 196,
     "metadata": {},
     "output_type": "execute_result"
    },
    {
     "data": {
      "image/png": "[encoded data removed]",
      "text/plain": [
       "<Figure size 432x288 with 1 Axes>"
      ]
     },
     "metadata": {
      "needs_background": "light"
     },
     "output_type": "display_data"
    }
   ],
   "source": [
    "sns.violinplot(x=df['means_step_per_participant'])"
   ]
  },
  {
   "cell_type": "markdown",
   "id": "be584c0a",
   "metadata": {},
   "source": [
    "The graphs are working, but I could definitely see some outliers, just like the 'weight' variable I went to remove the odd points<br>\n",
    "After that, I repeated the graphs"
   ]
  },
  {
   "cell_type": "code",
   "execution_count": 197,
   "id": "f004bcbd",
   "metadata": {},
   "outputs": [],
   "source": [
    "df = df[(df[\"means_step_per_participant\"] < 30000)]"
   ]
  },
  {
   "cell_type": "code",
   "execution_count": 198,
   "id": "04819b68",
   "metadata": {},
   "outputs": [
    {
     "data": {
      "image/png": "[encoded data removed]",
      "text/plain": [
       "<Figure size 360x360 with 1 Axes>"
      ]
     },
     "metadata": {
      "needs_background": "light"
     },
     "output_type": "display_data"
    }
   ],
   "source": [
    "sns.displot(df['means_step_per_participant'].dropna(), kde=False)\n",
    "plt.title('Average steps per participants')\n",
    "plt.xlabel('Steps')\n",
    "plt.ylabel('Participants')\n",
    "plt.show()"
   ]
  },
  {
   "cell_type": "code",
   "execution_count": 199,
   "id": "cc285bfc",
   "metadata": {},
   "outputs": [
    {
     "data": {
      "text/plain": [
       "<AxesSubplot:xlabel='means_step_per_participant'>"
      ]
     },
     "execution_count": 199,
     "metadata": {},
     "output_type": "execute_result"
    },
    {
     "data": {
      "image/png": "[encoded data removed]",
      "text/plain": [
       "<Figure size 432x288 with 1 Axes>"
      ]
     },
     "metadata": {
      "needs_background": "light"
     },
     "output_type": "display_data"
    }
   ],
   "source": [
    "sns.boxplot(x=df['means_step_per_participant'])"
   ]
  },
  {
   "cell_type": "code",
   "execution_count": 200,
   "id": "b556af1e",
   "metadata": {},
   "outputs": [
    {
     "data": {
      "image/png": "[encoded data removed]",
      "text/plain": [
       "<Figure size 360x360 with 1 Axes>"
      ]
     },
     "metadata": {
      "needs_background": "light"
     },
     "output_type": "display_data"
    }
   ],
   "source": [
    "sns.displot(df, x='means_step_per_participant', kind=\"kde\")\n",
    "plt.title('Density average steps per participants')\n",
    "plt.xlabel('Steps')\n",
    "plt.ylabel('Density')\n",
    "plt.show()"
   ]
  },
  {
   "cell_type": "code",
   "execution_count": 201,
   "id": "92d3ac45",
   "metadata": {},
   "outputs": [
    {
     "data": {
      "text/plain": [
       "<AxesSubplot:xlabel='means_step_per_participant'>"
      ]
     },
     "execution_count": 201,
     "metadata": {},
     "output_type": "execute_result"
    },
    {
     "data": {
      "image/png": "[encoded data removed]",
      "text/plain": [
       "<Figure size 432x288 with 1 Axes>"
      ]
     },
     "metadata": {
      "needs_background": "light"
     },
     "output_type": "display_data"
    }
   ],
   "source": [
    "sns.violinplot(x=df['means_step_per_participant'])"
   ]
  },
  {
   "cell_type": "markdown",
   "id": "927adfb5",
   "metadata": {},
   "source": [
    "#### Summary statistics (measure of central tendency and variation, e.g., mean, median, variance)"
   ]
  },
  {
   "cell_type": "markdown",
   "id": "60187e08",
   "metadata": {},
   "source": [
    "\"Mean: Add the numbers up, divide by the total number of values in the set. Also known as the arithmetic mean and informally called the “average”.\" https://thestatsninja.com/2019/01/05/how-to-measure-typical/"
   ]
  },
  {
   "cell_type": "code",
   "execution_count": 202,
   "id": "7ee946bd",
   "metadata": {},
   "outputs": [
    {
     "data": {
      "text/plain": [
       "6499.574917880323"
      ]
     },
     "execution_count": 202,
     "metadata": {},
     "output_type": "execute_result"
    }
   ],
   "source": [
    "df.mean()['means_step_per_participant']"
   ]
  },
  {
   "cell_type": "markdown",
   "id": "3192d3c7",
   "metadata": {},
   "source": [
    "So, the average steps that a person took a day, from the whole dataset combined, the average of all the people, is 6500"
   ]
  },
  {
   "cell_type": "markdown",
   "id": "69718715",
   "metadata": {},
   "source": [
    "\"Median: Put the numbers in order from least to greatest (ugh, the worst part) and find the middle number. Oh, there’s two middle numbers? Average them. Did you leave out a number? Start over.\" https://thestatsninja.com/2019/01/05/how-to-measure-typical/ <br>\n",
    "So, value that is in the middle"
   ]
  },
  {
   "cell_type": "code",
   "execution_count": 203,
   "id": "5a7a614a",
   "metadata": {},
   "outputs": [
    {
     "data": {
      "text/plain": [
       "6059.324381495448"
      ]
     },
     "execution_count": 203,
     "metadata": {},
     "output_type": "execute_result"
    }
   ],
   "source": [
    "df.median()['means_step_per_participant']"
   ]
  },
  {
   "cell_type": "markdown",
   "id": "8c989a21",
   "metadata": {},
   "source": [
    "This answer can be confirmed when looking at the graphs, where you can see that around 6000 most people had their steps"
   ]
  },
  {
   "cell_type": "markdown",
   "id": "b6c924b9",
   "metadata": {},
   "source": [
    "Variance: \"*defenition: average squared deviation of the list elements from the average value.\"(https://blog.finxter.com/how-to-calculate-the-column-variance-of-a-dataframe-in-python-pandas/)<br>\n",
    "\"In pure statistics, variance is the squared deviation of a variable from its mean. Basically, it measures the spread of random data in a set from its mean or median value. A low value for variance indicates that the data are clustered together and are not spread apart widely, whereas a high value would indicate that the data in the given set are much more spread apart from the average value.\" https://www.geeksforgeeks.org/python-statistics-variance/"
   ]
  },
  {
   "cell_type": "code",
   "execution_count": 204,
   "id": "14815651",
   "metadata": {},
   "outputs": [
    {
     "data": {
      "text/plain": [
       "8940494.909893692"
      ]
     },
     "execution_count": 204,
     "metadata": {},
     "output_type": "execute_result"
    }
   ],
   "source": [
    "df.var()['means_step_per_participant']"
   ]
  },
  {
   "cell_type": "markdown",
   "id": "57628db1",
   "metadata": {},
   "source": [
    "This high number is correct. As we can see in the first graphs, before I cleaned them, there was an outlier around 175000"
   ]
  },
  {
   "cell_type": "markdown",
   "id": "ba8ce6d1",
   "metadata": {},
   "source": [
    "#### Verbal description of the distribution, including commenting on normality, skewness, outliers, etc."
   ]
  },
  {
   "cell_type": "markdown",
   "id": "8e32d386",
   "metadata": {},
   "source": [
    "The distribution of the graph and its shape seems very logical. Most people take around 6500 steps when going for a walk, some below, some above. But most of them around the same.<br>\n",
    "Normality: I think the graph is very normal, most graphs look like this. The mean is also close to the median, which shows that there is no large amounts of small outliers<br>\n",
    "Skewness: The graph is right skewed, which means that the mean > median. The average is slightly above the steps that most people have taken (6000)<br>\n",
    "Outliers: One big walker/outlier was removed. There are also some around the 20000, but I did not think that those  outliers were big of far enough to be removed"
   ]
  },
  {
   "cell_type": "markdown",
   "id": "65649d81",
   "metadata": {},
   "source": [
    "### Step 2: The relation of mean steps per participant with two categorical variables (e.g. gender, age, education)"
   ]
  },
  {
   "cell_type": "markdown",
   "id": "e4c51fbd",
   "metadata": {},
   "source": [
    "For this step I went through multiple variables and looked at how at how differences in gender, age and education had effect on the mean steps per participant. The graphs are from help of the examples or from the site from sns"
   ]
  },
  {
   "cell_type": "markdown",
   "id": "14714fb0",
   "metadata": {},
   "source": [
    "#### Graph of the relation (e.g. histograms, box plots, density plots, violin plots). Try a different plot this time."
   ]
  },
  {
   "cell_type": "code",
   "execution_count": 205,
   "id": "aa0cbea0",
   "metadata": {},
   "outputs": [
    {
     "data": {
      "text/plain": [
       "<AxesSubplot:xlabel='means_step_per_participant', ylabel='Count'>"
      ]
     },
     "execution_count": 205,
     "metadata": {},
     "output_type": "execute_result"
    },
    {
     "data": {
      "image/png": "[encoded data removed]",
      "text/plain": [
       "<Figure size 432x288 with 1 Axes>"
      ]
     },
     "metadata": {
      "needs_background": "light"
     },
     "output_type": "display_data"
    }
   ],
   "source": [
    "sns.histplot(data=df, x='means_step_per_participant', hue='education', multiple=\"stack\")"
   ]
  },
  {
   "cell_type": "code",
   "execution_count": 206,
   "id": "7001b186",
   "metadata": {},
   "outputs": [
    {
     "data": {
      "text/plain": [
       "<AxesSubplot:xlabel='means_step_per_participant', ylabel='age'>"
      ]
     },
     "execution_count": 206,
     "metadata": {},
     "output_type": "execute_result"
    },
    {
     "data": {
      "image/png": "[encoded data removed]",
      "text/plain": [
       "<Figure size 432x288 with 1 Axes>"
      ]
     },
     "metadata": {
      "needs_background": "light"
     },
     "output_type": "display_data"
    }
   ],
   "source": [
    "sns.boxplot(x='means_step_per_participant', y='age', data=df)"
   ]
  },
  {
   "cell_type": "code",
   "execution_count": 207,
   "id": "e11d6e77",
   "metadata": {},
   "outputs": [
    {
     "data": {
      "text/plain": [
       "<AxesSubplot:xlabel='means_step_per_participant', ylabel='age'>"
      ]
     },
     "execution_count": 207,
     "metadata": {},
     "output_type": "execute_result"
    },
    {
     "data": {
      "image/png": "[encoded data removed]",
      "text/plain": [
       "<Figure size 432x288 with 1 Axes>"
      ]
     },
     "metadata": {
      "needs_background": "light"
     },
     "output_type": "display_data"
    }
   ],
   "source": [
    "sns.violinplot(x='means_step_per_participant', y='age', hue=\"gender\", data=df, split=True)"
   ]
  },
  {
   "cell_type": "markdown",
   "id": "d86a74ae",
   "metadata": {},
   "source": [
    "#### Describe and interpret the results"
   ]
  },
  {
   "cell_type": "markdown",
   "id": "d922a8a8",
   "metadata": {},
   "source": [
    "Mean steps per participant and education: It can be seen that education levels from 1, 2 and 4 are the biggest walkers. They are pretty evenly divided. 3 and 5 tend to walk a lot less, with I believe education level 3 the one who walkes the least<br>\n",
    "Mean steps per particiapnt and age: For age the age group 55-64 walked the most, with after them the 35-44 and 45-54 group. The least of the bunch is the <25 group. I think these results are very logical, as young people tend to be more inside and on the internet focused, while the older generations tend to take long walk breaks when having a break while working or when when just casually walking in the weekend<br>\n",
    "Mean steps per participant and gender: The gender distrubition does not have a lot of differences. We can see that male and females are pretty 50/50, with females walking more in the 55-64 age category and males winning in the <25 category. Furthermore in the 65+ category there are only males. But overall, there are no big differences to count"
   ]
  },
  {
   "cell_type": "markdown",
   "id": "08451143",
   "metadata": {},
   "source": [
    "# <font color=green>Weekly assignment 2: correlation</font>"
   ]
  },
  {
   "cell_type": "markdown",
   "id": "a970920b",
   "metadata": {},
   "source": [
    "## Feature engineering"
   ]
  },
  {
   "cell_type": "markdown",
   "id": "7cf843ae",
   "metadata": {},
   "source": [
    "### Step 1: The prediction of the model can be improved by computing a variable that gives a better indication of a healthy weight than weight alone. Can you think of one? If not, just skip this step."
   ]
  },
  {
   "cell_type": "markdown",
   "id": "a8dc72ab",
   "metadata": {},
   "source": [
    "I tought of BMI, as it gives an indication of healthy weight and it can be calculated with the variables weight and height.\n"
   ]
  },
  {
   "cell_type": "markdown",
   "id": "ff940609",
   "metadata": {},
   "source": [
    "I did have to look up how it can be calculated, and also how in python:<br>\n",
    "https://dev.to/mindninjax/how-to-build-a-bmi-calculator-in-python-4g2g, BMI = weight / (height/100)**2"
   ]
  },
  {
   "cell_type": "code",
   "execution_count": 208,
   "id": "1b83905c",
   "metadata": {},
   "outputs": [
    {
     "name": "stderr",
     "output_type": "stream",
     "text": [
      "<ipython-input-208-daadad9cc73c>:1: SettingWithCopyWarning: \n",
      "A value is trying to be set on a copy of a slice from a DataFrame.\n",
      "Try using .loc[row_indexer,col_indexer] = value instead\n",
      "\n",
      "See the caveats in the documentation: https://pandas.pydata.org/pandas-docs/stable/user_guide/indexing.html#returning-a-view-versus-a-copy\n",
      "  df[\"BMI\"] = df[\"weight\"] / (df[\"height\"] / 100) ** 2\n"
     ]
    }
   ],
   "source": [
    "df[\"BMI\"] = df[\"weight\"] / (df[\"height\"] / 100) ** 2"
   ]
  },
  {
   "cell_type": "markdown",
   "id": "2219b1c6",
   "metadata": {},
   "source": [
    "Seeing if it works:"
   ]
  },
  {
   "cell_type": "code",
   "execution_count": 209,
   "id": "8efe73d0",
   "metadata": {},
   "outputs": [
    {
     "data": {
      "text/html": [
       "<div>\n",
       "<style scoped>\n",
       "    .dataframe tbody tr th:only-of-type {\n",
       "        vertical-align: middle;\n",
       "    }\n",
       "\n",
       "    .dataframe tbody tr th {\n",
       "        vertical-align: top;\n",
       "    }\n",
       "\n",
       "    .dataframe thead th {\n",
       "        text-align: right;\n",
       "    }\n",
       "</style>\n",
       "<table border=\"1\" class=\"dataframe\">\n",
       "  <thead>\n",
       "    <tr style=\"text-align: right;\">\n",
       "      <th></th>\n",
       "      <th>id</th>\n",
       "      <th>20-6-2013</th>\n",
       "      <th>21-6-2013</th>\n",
       "      <th>22-6-2013</th>\n",
       "      <th>23-6-2013</th>\n",
       "      <th>24-6-2013</th>\n",
       "      <th>25-6-2013</th>\n",
       "      <th>26-6-2013</th>\n",
       "      <th>27-6-2013</th>\n",
       "      <th>28-6-2013</th>\n",
       "      <th>...</th>\n",
       "      <th>city</th>\n",
       "      <th>gender</th>\n",
       "      <th>age</th>\n",
       "      <th>hh_size</th>\n",
       "      <th>education</th>\n",
       "      <th>education_1</th>\n",
       "      <th>height</th>\n",
       "      <th>weight</th>\n",
       "      <th>means_step_per_participant</th>\n",
       "      <th>BMI</th>\n",
       "    </tr>\n",
       "  </thead>\n",
       "  <tbody>\n",
       "    <tr>\n",
       "      <th>0</th>\n",
       "      <td>1</td>\n",
       "      <td>NaN</td>\n",
       "      <td>NaN</td>\n",
       "      <td>NaN</td>\n",
       "      <td>NaN</td>\n",
       "      <td>3941.0</td>\n",
       "      <td>15733.0</td>\n",
       "      <td>9929.0</td>\n",
       "      <td>12879.0</td>\n",
       "      <td>10541.0</td>\n",
       "      <td>...</td>\n",
       "      <td>Bordeaux</td>\n",
       "      <td>Male</td>\n",
       "      <td>25-34</td>\n",
       "      <td>4</td>\n",
       "      <td>4</td>\n",
       "      <td>Master or doctorate</td>\n",
       "      <td>178.0</td>\n",
       "      <td>98.0</td>\n",
       "      <td>10144.048193</td>\n",
       "      <td>30.930438</td>\n",
       "    </tr>\n",
       "    <tr>\n",
       "      <th>1</th>\n",
       "      <td>2</td>\n",
       "      <td>NaN</td>\n",
       "      <td>NaN</td>\n",
       "      <td>10473.0</td>\n",
       "      <td>705.0</td>\n",
       "      <td>4287.0</td>\n",
       "      <td>5507.0</td>\n",
       "      <td>4024.0</td>\n",
       "      <td>3926.0</td>\n",
       "      <td>14595.0</td>\n",
       "      <td>...</td>\n",
       "      <td>Lille</td>\n",
       "      <td>Male</td>\n",
       "      <td>35-44</td>\n",
       "      <td>1</td>\n",
       "      <td>3</td>\n",
       "      <td>Bachelor</td>\n",
       "      <td>180.0</td>\n",
       "      <td>77.0</td>\n",
       "      <td>5652.756098</td>\n",
       "      <td>23.765432</td>\n",
       "    </tr>\n",
       "    <tr>\n",
       "      <th>2</th>\n",
       "      <td>3</td>\n",
       "      <td>NaN</td>\n",
       "      <td>11428.0</td>\n",
       "      <td>12523.0</td>\n",
       "      <td>2553.0</td>\n",
       "      <td>190.0</td>\n",
       "      <td>2164.0</td>\n",
       "      <td>8185.0</td>\n",
       "      <td>9630.0</td>\n",
       "      <td>8983.0</td>\n",
       "      <td>...</td>\n",
       "      <td>Montpellier</td>\n",
       "      <td>Male</td>\n",
       "      <td>25-34</td>\n",
       "      <td>2</td>\n",
       "      <td>2</td>\n",
       "      <td>Master or doctorate</td>\n",
       "      <td>180.0</td>\n",
       "      <td>83.0</td>\n",
       "      <td>8246.033557</td>\n",
       "      <td>25.617284</td>\n",
       "    </tr>\n",
       "    <tr>\n",
       "      <th>3</th>\n",
       "      <td>4</td>\n",
       "      <td>NaN</td>\n",
       "      <td>NaN</td>\n",
       "      <td>NaN</td>\n",
       "      <td>NaN</td>\n",
       "      <td>NaN</td>\n",
       "      <td>NaN</td>\n",
       "      <td>NaN</td>\n",
       "      <td>NaN</td>\n",
       "      <td>NaN</td>\n",
       "      <td>...</td>\n",
       "      <td>Lyon</td>\n",
       "      <td>Male</td>\n",
       "      <td>&lt;25</td>\n",
       "      <td>1</td>\n",
       "      <td>1</td>\n",
       "      <td>Bachelor</td>\n",
       "      <td>178.0</td>\n",
       "      <td>80.0</td>\n",
       "      <td>3460.380952</td>\n",
       "      <td>25.249337</td>\n",
       "    </tr>\n",
       "    <tr>\n",
       "      <th>4</th>\n",
       "      <td>5</td>\n",
       "      <td>NaN</td>\n",
       "      <td>NaN</td>\n",
       "      <td>NaN</td>\n",
       "      <td>NaN</td>\n",
       "      <td>NaN</td>\n",
       "      <td>NaN</td>\n",
       "      <td>NaN</td>\n",
       "      <td>NaN</td>\n",
       "      <td>NaN</td>\n",
       "      <td>...</td>\n",
       "      <td>Montpellier</td>\n",
       "      <td>Female</td>\n",
       "      <td>25-34</td>\n",
       "      <td>3</td>\n",
       "      <td>4</td>\n",
       "      <td>Bachelor</td>\n",
       "      <td>167.0</td>\n",
       "      <td>61.0</td>\n",
       "      <td>5215.636364</td>\n",
       "      <td>21.872423</td>\n",
       "    </tr>\n",
       "  </tbody>\n",
       "</table>\n",
       "<p>5 rows × 339 columns</p>\n",
       "</div>"
      ],
      "text/plain": [
       "   id  20-6-2013  21-6-2013  22-6-2013  23-6-2013  24-6-2013  25-6-2013  \\\n",
       "0   1        NaN        NaN        NaN        NaN     3941.0    15733.0   \n",
       "1   2        NaN        NaN    10473.0      705.0     4287.0     5507.0   \n",
       "2   3        NaN    11428.0    12523.0     2553.0      190.0     2164.0   \n",
       "3   4        NaN        NaN        NaN        NaN        NaN        NaN   \n",
       "4   5        NaN        NaN        NaN        NaN        NaN        NaN   \n",
       "\n",
       "   26-6-2013  27-6-2013  28-6-2013  ...         city  gender    age  hh_size  \\\n",
       "0     9929.0    12879.0    10541.0  ...     Bordeaux    Male  25-34        4   \n",
       "1     4024.0     3926.0    14595.0  ...        Lille    Male  35-44        1   \n",
       "2     8185.0     9630.0     8983.0  ...  Montpellier    Male  25-34        2   \n",
       "3        NaN        NaN        NaN  ...         Lyon    Male    <25        1   \n",
       "4        NaN        NaN        NaN  ...  Montpellier  Female  25-34        3   \n",
       "\n",
       "   education          education_1  height  weight  means_step_per_participant  \\\n",
       "0          4  Master or doctorate   178.0    98.0                10144.048193   \n",
       "1          3             Bachelor   180.0    77.0                 5652.756098   \n",
       "2          2  Master or doctorate   180.0    83.0                 8246.033557   \n",
       "3          1             Bachelor   178.0    80.0                 3460.380952   \n",
       "4          4             Bachelor   167.0    61.0                 5215.636364   \n",
       "\n",
       "         BMI  \n",
       "0  30.930438  \n",
       "1  23.765432  \n",
       "2  25.617284  \n",
       "3  25.249337  \n",
       "4  21.872423  \n",
       "\n",
       "[5 rows x 339 columns]"
      ]
     },
     "execution_count": 209,
     "metadata": {},
     "output_type": "execute_result"
    }
   ],
   "source": [
    "df.head()"
   ]
  },
  {
   "cell_type": "markdown",
   "id": "209eb670",
   "metadata": {},
   "source": [
    "## Exploratory data analysis"
   ]
  },
  {
   "cell_type": "markdown",
   "id": "2a0e6ec3",
   "metadata": {},
   "source": [
    "### Step 1: Make a scatterplot matrix of the numerical variables"
   ]
  },
  {
   "cell_type": "markdown",
   "id": "067b67b4",
   "metadata": {},
   "source": [
    "I wanted to experiment with multiple numerical variables, so I made different scatterplots. My favorite one being the first one with 'means_step_per_particpant' and 'BMI'. The scatterplot code I got from the examples"
   ]
  },
  {
   "cell_type": "code",
   "execution_count": 210,
   "id": "1a9f11a3",
   "metadata": {},
   "outputs": [
    {
     "data": {
      "image/png": "[encoded data removed]",
      "text/plain": [
       "<Figure size 360x360 with 1 Axes>"
      ]
     },
     "metadata": {
      "needs_background": "light"
     },
     "output_type": "display_data"
    }
   ],
   "source": [
    "sns.lmplot(x='means_step_per_participant', y='BMI', fit_reg=False, data=df) #fit_reg=False leaves out the regression line; see below\n",
    "plt.xlabel('Means step per participant') #use matplotlib to refine Seaborn plot\n",
    "plt.ylabel('BMI')\n",
    "plt.title('Means step per participant weight')\n",
    "plt.show()"
   ]
  },
  {
   "cell_type": "code",
   "execution_count": 211,
   "id": "53994b47",
   "metadata": {},
   "outputs": [
    {
     "data": {
      "image/png": "[encoded data removed]",
      "text/plain": [
       "<Figure size 360x360 with 1 Axes>"
      ]
     },
     "metadata": {
      "needs_background": "light"
     },
     "output_type": "display_data"
    }
   ],
   "source": [
    "sns.lmplot(x='weight', y='height', fit_reg=False, data=df) \n",
    "plt.xlabel('Weight (kg)') \n",
    "plt.ylabel('Height (cm)')\n",
    "plt.title('Height and weight of the people using the Fitbit')\n",
    "plt.show()"
   ]
  },
  {
   "cell_type": "code",
   "execution_count": 212,
   "id": "701113d9",
   "metadata": {},
   "outputs": [
    {
     "data": {
      "image/png": "[encoded data removed]",
      "text/plain": [
       "<Figure size 360x360 with 1 Axes>"
      ]
     },
     "metadata": {
      "needs_background": "light"
     },
     "output_type": "display_data"
    }
   ],
   "source": [
    "sns.lmplot(x='means_step_per_participant', y='education', fit_reg=False, data=df) #fit_reg=False leaves out the regression line; see below\n",
    "plt.xlabel('Means step per participant')\n",
    "plt.ylabel('Education level')\n",
    "plt.title('Education level per means step per participant')\n",
    "plt.show()"
   ]
  },
  {
   "cell_type": "markdown",
   "id": "5a306b0b",
   "metadata": {},
   "source": [
    "### Step 2: Make a correlation matrix of the numerical variables"
   ]
  },
  {
   "cell_type": "markdown",
   "id": "305a3941",
   "metadata": {},
   "source": [
    "\"A correlation matrix is a table containing correlation coefficients between variables. Each cell in the table represents the correlation between two variables. A correlation matrix is used to summarize data, as a diagnostic for advanced analyses and as an input into a more advanced analysis.\" https://www.geeksforgeeks.org/create-a-correlation-matrix-using-python/"
   ]
  },
  {
   "cell_type": "markdown",
   "id": "03760564",
   "metadata": {},
   "source": [
    "First step, is getting the Pearson's r"
   ]
  },
  {
   "cell_type": "markdown",
   "id": "bc07d377",
   "metadata": {},
   "source": [
    "\"Let's calculate the correlation, Pearson's _r_. Remember that correlation is a number between -1 and 1 that shows how much the variables 'go together'.\" quote from example"
   ]
  },
  {
   "cell_type": "markdown",
   "id": "9adfffe3",
   "metadata": {},
   "source": [
    "I got the correlation function from the examples"
   ]
  },
  {
   "cell_type": "code",
   "execution_count": 213,
   "id": "6d40927d",
   "metadata": {},
   "outputs": [
    {
     "name": "stdout",
     "output_type": "stream",
     "text": [
      "(0.011756483217990103, 0.7217512274546041)\n"
     ]
    }
   ],
   "source": [
    "print(pearsonr(df['means_step_per_participant'],df['education']))"
   ]
  },
  {
   "cell_type": "markdown",
   "id": "54518573",
   "metadata": {},
   "source": [
    "The next Pearson's _r_ did not work in the beginning. This is because \"height\" (and therefore also BMI) had a NaN object, first I had to seek it and then remove it to continue"
   ]
  },
  {
   "cell_type": "code",
   "execution_count": 214,
   "id": "79394f80",
   "metadata": {
    "scrolled": true
   },
   "outputs": [
    {
     "data": {
      "text/html": [
       "<div>\n",
       "<style scoped>\n",
       "    .dataframe tbody tr th:only-of-type {\n",
       "        vertical-align: middle;\n",
       "    }\n",
       "\n",
       "    .dataframe tbody tr th {\n",
       "        vertical-align: top;\n",
       "    }\n",
       "\n",
       "    .dataframe thead th {\n",
       "        text-align: right;\n",
       "    }\n",
       "</style>\n",
       "<table border=\"1\" class=\"dataframe\">\n",
       "  <thead>\n",
       "    <tr style=\"text-align: right;\">\n",
       "      <th></th>\n",
       "      <th>id</th>\n",
       "      <th>20-6-2013</th>\n",
       "      <th>21-6-2013</th>\n",
       "      <th>22-6-2013</th>\n",
       "      <th>23-6-2013</th>\n",
       "      <th>24-6-2013</th>\n",
       "      <th>25-6-2013</th>\n",
       "      <th>26-6-2013</th>\n",
       "      <th>27-6-2013</th>\n",
       "      <th>28-6-2013</th>\n",
       "      <th>...</th>\n",
       "      <th>city</th>\n",
       "      <th>gender</th>\n",
       "      <th>age</th>\n",
       "      <th>hh_size</th>\n",
       "      <th>education</th>\n",
       "      <th>education_1</th>\n",
       "      <th>height</th>\n",
       "      <th>weight</th>\n",
       "      <th>means_step_per_participant</th>\n",
       "      <th>BMI</th>\n",
       "    </tr>\n",
       "  </thead>\n",
       "  <tbody>\n",
       "    <tr>\n",
       "      <th>261</th>\n",
       "      <td>262</td>\n",
       "      <td>NaN</td>\n",
       "      <td>NaN</td>\n",
       "      <td>NaN</td>\n",
       "      <td>NaN</td>\n",
       "      <td>13699.0</td>\n",
       "      <td>NaN</td>\n",
       "      <td>5628.0</td>\n",
       "      <td>10005.0</td>\n",
       "      <td>14928.0</td>\n",
       "      <td>...</td>\n",
       "      <td>Lille</td>\n",
       "      <td>Male</td>\n",
       "      <td>25-34</td>\n",
       "      <td>1</td>\n",
       "      <td>1</td>\n",
       "      <td>Master or doctorate</td>\n",
       "      <td>NaN</td>\n",
       "      <td>53.0</td>\n",
       "      <td>7391.641026</td>\n",
       "      <td>NaN</td>\n",
       "    </tr>\n",
       "  </tbody>\n",
       "</table>\n",
       "<p>1 rows × 339 columns</p>\n",
       "</div>"
      ],
      "text/plain": [
       "      id  20-6-2013  21-6-2013  22-6-2013  23-6-2013  24-6-2013  25-6-2013  \\\n",
       "261  262        NaN        NaN        NaN        NaN    13699.0        NaN   \n",
       "\n",
       "     26-6-2013  27-6-2013  28-6-2013  ...   city  gender    age  hh_size  \\\n",
       "261     5628.0    10005.0    14928.0  ...  Lille    Male  25-34        1   \n",
       "\n",
       "     education          education_1  height  weight  \\\n",
       "261          1  Master or doctorate     NaN    53.0   \n",
       "\n",
       "     means_step_per_participant  BMI  \n",
       "261                 7391.641026  NaN  \n",
       "\n",
       "[1 rows x 339 columns]"
      ]
     },
     "execution_count": 214,
     "metadata": {},
     "output_type": "execute_result"
    }
   ],
   "source": [
    "df[df[\"height\"].isnull()]"
   ]
  },
  {
   "cell_type": "markdown",
   "id": "bdf8957b",
   "metadata": {},
   "source": [
    "I decided that removing the row would be the smartest"
   ]
  },
  {
   "cell_type": "code",
   "execution_count": 215,
   "id": "ba762911",
   "metadata": {},
   "outputs": [],
   "source": [
    "df = df.drop([261])"
   ]
  },
  {
   "cell_type": "code",
   "execution_count": 216,
   "id": "ab5b234d",
   "metadata": {},
   "outputs": [
    {
     "data": {
      "text/html": [
       "<div>\n",
       "<style scoped>\n",
       "    .dataframe tbody tr th:only-of-type {\n",
       "        vertical-align: middle;\n",
       "    }\n",
       "\n",
       "    .dataframe tbody tr th {\n",
       "        vertical-align: top;\n",
       "    }\n",
       "\n",
       "    .dataframe thead th {\n",
       "        text-align: right;\n",
       "    }\n",
       "</style>\n",
       "<table border=\"1\" class=\"dataframe\">\n",
       "  <thead>\n",
       "    <tr style=\"text-align: right;\">\n",
       "      <th></th>\n",
       "      <th>id</th>\n",
       "      <th>20-6-2013</th>\n",
       "      <th>21-6-2013</th>\n",
       "      <th>22-6-2013</th>\n",
       "      <th>23-6-2013</th>\n",
       "      <th>24-6-2013</th>\n",
       "      <th>25-6-2013</th>\n",
       "      <th>26-6-2013</th>\n",
       "      <th>27-6-2013</th>\n",
       "      <th>28-6-2013</th>\n",
       "      <th>...</th>\n",
       "      <th>city</th>\n",
       "      <th>gender</th>\n",
       "      <th>age</th>\n",
       "      <th>hh_size</th>\n",
       "      <th>education</th>\n",
       "      <th>education_1</th>\n",
       "      <th>height</th>\n",
       "      <th>weight</th>\n",
       "      <th>means_step_per_participant</th>\n",
       "      <th>BMI</th>\n",
       "    </tr>\n",
       "  </thead>\n",
       "  <tbody>\n",
       "  </tbody>\n",
       "</table>\n",
       "<p>0 rows × 339 columns</p>\n",
       "</div>"
      ],
      "text/plain": [
       "Empty DataFrame\n",
       "Columns: [id, 20-6-2013, 21-6-2013, 22-6-2013, 23-6-2013, 24-6-2013, 25-6-2013, 26-6-2013, 27-6-2013, 28-6-2013, 29-6-2013, 30-6-2013, 1-7-2013, 2-7-2013, 3-7-2013, 4-7-2013, 5-7-2013, 6-7-2013, 7-7-2013, 8-7-2013, 9-7-2013, 10-7-2013, 11-7-2013, 12-7-2013, 13-7-2013, 14-7-2013, 15-7-2013, 16-7-2013, 17-7-2013, 18-7-2013, 19-7-2013, 20-7-2013, 21-7-2013, 22-7-2013, 23-7-2013, 24-7-2013, 25-7-2013, 26-7-2013, 27-7-2013, 28-7-2013, 29-7-2013, 30-7-2013, 31-7-2013, 1-8-2013, 2-8-2013, 3-8-2013, 4-8-2013, 5-8-2013, 6-8-2013, 7-8-2013, 8-8-2013, 9-8-2013, 10-8-2013, 11-8-2013, 12-8-2013, 13-8-2013, 14-8-2013, 15-8-2013, 16-8-2013, 17-8-2013, 18-8-2013, 19-8-2013, 20-8-2013, 21-8-2013, 22-8-2013, 23-8-2013, 24-8-2013, 25-8-2013, 26-8-2013, 27-8-2013, 28-8-2013, 29-8-2013, 30-8-2013, 31-8-2013, 1-9-2013, 2-9-2013, 3-9-2013, 4-9-2013, 5-9-2013, 6-9-2013, 7-9-2013, 8-9-2013, 9-9-2013, 10-9-2013, 11-9-2013, 12-9-2013, 13-9-2013, 14-9-2013, 15-9-2013, 16-9-2013, 17-9-2013, 18-9-2013, 19-9-2013, 20-9-2013, 21-9-2013, 22-9-2013, 23-9-2013, 24-9-2013, 25-9-2013, 26-9-2013, ...]\n",
       "Index: []\n",
       "\n",
       "[0 rows x 339 columns]"
      ]
     },
     "execution_count": 216,
     "metadata": {},
     "output_type": "execute_result"
    }
   ],
   "source": [
    "df[df[\"height\"].isnull()]"
   ]
  },
  {
   "cell_type": "markdown",
   "id": "d041ab77",
   "metadata": {},
   "source": [
    "Now I can continue with the Pearson's r for weight and height"
   ]
  },
  {
   "cell_type": "code",
   "execution_count": 217,
   "id": "58b4e237",
   "metadata": {},
   "outputs": [
    {
     "name": "stdout",
     "output_type": "stream",
     "text": [
      "(0.510301456536701, 4.410807814541697e-62)\n"
     ]
    }
   ],
   "source": [
    "print(pearsonr(df['weight'],df['height']))"
   ]
  },
  {
   "cell_type": "code",
   "execution_count": 218,
   "id": "ec11a30e",
   "metadata": {},
   "outputs": [
    {
     "name": "stdout",
     "output_type": "stream",
     "text": [
      "(-0.03368703912873669, 0.30767029790164335)\n"
     ]
    }
   ],
   "source": [
    "from scipy.stats.stats import pearsonr #We will need the correlation function from the scientific package scipy\n",
    "print(pearsonr(df['means_step_per_participant'],df['BMI']))"
   ]
  },
  {
   "cell_type": "markdown",
   "id": "13a4150e",
   "metadata": {},
   "source": [
    "I had now discovered Pearson's r for different variables together.<br><br>\n",
    "\n",
    "For the second step, I put all variables together for a correlation matrix. Code with the help of the example page"
   ]
  },
  {
   "cell_type": "code",
   "execution_count": 219,
   "id": "dcd742da",
   "metadata": {},
   "outputs": [
    {
     "data": {
      "text/html": [
       "<div>\n",
       "<style scoped>\n",
       "    .dataframe tbody tr th:only-of-type {\n",
       "        vertical-align: middle;\n",
       "    }\n",
       "\n",
       "    .dataframe tbody tr th {\n",
       "        vertical-align: top;\n",
       "    }\n",
       "\n",
       "    .dataframe thead th {\n",
       "        text-align: right;\n",
       "    }\n",
       "</style>\n",
       "<table border=\"1\" class=\"dataframe\">\n",
       "  <thead>\n",
       "    <tr style=\"text-align: right;\">\n",
       "      <th></th>\n",
       "      <th>means_step_per_participant</th>\n",
       "      <th>education</th>\n",
       "      <th>weight</th>\n",
       "      <th>height</th>\n",
       "      <th>BMI</th>\n",
       "    </tr>\n",
       "  </thead>\n",
       "  <tbody>\n",
       "    <tr>\n",
       "      <th>means_step_per_participant</th>\n",
       "      <td>1.000000</td>\n",
       "      <td>0.012156</td>\n",
       "      <td>-0.065306</td>\n",
       "      <td>-0.067635</td>\n",
       "      <td>-0.033687</td>\n",
       "    </tr>\n",
       "    <tr>\n",
       "      <th>education</th>\n",
       "      <td>0.012156</td>\n",
       "      <td>1.000000</td>\n",
       "      <td>0.010296</td>\n",
       "      <td>-0.036400</td>\n",
       "      <td>0.030934</td>\n",
       "    </tr>\n",
       "    <tr>\n",
       "      <th>weight</th>\n",
       "      <td>-0.065306</td>\n",
       "      <td>0.010296</td>\n",
       "      <td>1.000000</td>\n",
       "      <td>0.510301</td>\n",
       "      <td>0.867172</td>\n",
       "    </tr>\n",
       "    <tr>\n",
       "      <th>height</th>\n",
       "      <td>-0.067635</td>\n",
       "      <td>-0.036400</td>\n",
       "      <td>0.510301</td>\n",
       "      <td>1.000000</td>\n",
       "      <td>0.024243</td>\n",
       "    </tr>\n",
       "    <tr>\n",
       "      <th>BMI</th>\n",
       "      <td>-0.033687</td>\n",
       "      <td>0.030934</td>\n",
       "      <td>0.867172</td>\n",
       "      <td>0.024243</td>\n",
       "      <td>1.000000</td>\n",
       "    </tr>\n",
       "  </tbody>\n",
       "</table>\n",
       "</div>"
      ],
      "text/plain": [
       "                            means_step_per_participant  education    weight  \\\n",
       "means_step_per_participant                    1.000000   0.012156 -0.065306   \n",
       "education                                     0.012156   1.000000  0.010296   \n",
       "weight                                       -0.065306   0.010296  1.000000   \n",
       "height                                       -0.067635  -0.036400  0.510301   \n",
       "BMI                                          -0.033687   0.030934  0.867172   \n",
       "\n",
       "                              height       BMI  \n",
       "means_step_per_participant -0.067635 -0.033687  \n",
       "education                  -0.036400  0.030934  \n",
       "weight                      0.510301  0.867172  \n",
       "height                      1.000000  0.024243  \n",
       "BMI                         0.024243  1.000000  "
      ]
     },
     "execution_count": 219,
     "metadata": {},
     "output_type": "execute_result"
    }
   ],
   "source": [
    "corr = df[['means_step_per_participant', 'education', 'weight', 'height', 'BMI']].corr() #I'm leaving out the corrected variables (divided by 1 million)\n",
    "corr"
   ]
  },
  {
   "cell_type": "markdown",
   "id": "0142e23a",
   "metadata": {},
   "source": [
    "I also made a heatmap of the correlation matrix"
   ]
  },
  {
   "cell_type": "code",
   "execution_count": 220,
   "id": "51603335",
   "metadata": {},
   "outputs": [
    {
     "data": {
      "image/png": "[encoded data removed]",
      "text/plain": [
       "<Figure size 432x288 with 2 Axes>"
      ]
     },
     "metadata": {
      "needs_background": "light"
     },
     "output_type": "display_data"
    }
   ],
   "source": [
    "sns.heatmap(corr, xticklabels=corr.columns, yticklabels=corr.columns) #the last two arguments set the column names\n",
    "plt.show()"
   ]
  },
  {
   "cell_type": "markdown",
   "id": "bbc0c528",
   "metadata": {},
   "source": [
    "### Step 3: Describe and interpret the results"
   ]
  },
  {
   "cell_type": "markdown",
   "id": "5c988d7d",
   "metadata": {},
   "source": [
    "We can see a lot of things from the correlation matrix and the heatmap:<br>\n",
    "The mean steps per participant don't seem to have a strong correlation with any of the variables in the matrix. They are actually all highly significant (r < 0.01). This means education, age or BMI don't really have an effect in the steps that you take<br>\n",
    "But for example looking at a high correlation, we can look at BMI and weight (r = 0.87), which makes a lot of sense, because weight is a strong factor in resulting the BMI score. So significance (p) is high.<br>\n",
    "Another moderate correlation is weight with height (r = 0.51), which is also self explanatory<br><br>\n",
    "Unfortunately, it is disappointing that mean step per participant and or BMI did not have a fun correlation with any of the other variables. Maybe I did something wrong, but from my results, your age, gender, weight and more does not affect the steps you take."
   ]
  },
  {
   "cell_type": "markdown",
   "id": "0a99150d",
   "metadata": {},
   "source": [
    "# <font color=red>Weekly assignment 3: linear regression</font>"
   ]
  },
  {
   "cell_type": "markdown",
   "id": "fe61dce6",
   "metadata": {},
   "source": [
    "## Predictive model"
   ]
  },
  {
   "cell_type": "markdown",
   "id": "a13d1df7",
   "metadata": {},
   "source": [
    "### Step 1: Explain linear regression in your own words"
   ]
  },
  {
   "cell_type": "markdown",
   "id": "5b80fca9",
   "metadata": {},
   "source": [
    "The relationship between a dependent variable and multiple independent. It graphs the relationship with a line<br>\n",
    "So it finds out the relationship between x and y<br>\n",
    "y = b0 + b1X + e<br>\n",
    "It looks at one step on the x-as, how much it moves on the y-as. So if the x-as moves one step, and y moves two up. Then it is a positive linear progression of y = 2x"
   ]
  },
  {
   "cell_type": "markdown",
   "id": "6332312c",
   "metadata": {},
   "source": [
    "### Step 2: Create dummy variables for the categorical variables"
   ]
  },
  {
   "cell_type": "markdown",
   "id": "a38160bc",
   "metadata": {},
   "source": [
    "Linear regression only accepts numerical variables. So we have to make dummies for the categorical variables"
   ]
  },
  {
   "cell_type": "markdown",
   "id": "7e2a4f0d",
   "metadata": {},
   "source": [
    "\"Categorical variables represent types of data which may be divided into groups.  Examples of categorical variables are race, sex, age group, and educational level.\" http://www.stat.yale.edu/Courses/1997-98/101/catdat.htm"
   ]
  },
  {
   "cell_type": "code",
   "execution_count": 221,
   "id": "f196cb52",
   "metadata": {},
   "outputs": [
    {
     "data": {
      "text/html": [
       "<div>\n",
       "<style scoped>\n",
       "    .dataframe tbody tr th:only-of-type {\n",
       "        vertical-align: middle;\n",
       "    }\n",
       "\n",
       "    .dataframe tbody tr th {\n",
       "        vertical-align: top;\n",
       "    }\n",
       "\n",
       "    .dataframe thead th {\n",
       "        text-align: right;\n",
       "    }\n",
       "</style>\n",
       "<table border=\"1\" class=\"dataframe\">\n",
       "  <thead>\n",
       "    <tr style=\"text-align: right;\">\n",
       "      <th></th>\n",
       "      <th>id</th>\n",
       "      <th>20-6-2013</th>\n",
       "      <th>21-6-2013</th>\n",
       "      <th>22-6-2013</th>\n",
       "      <th>23-6-2013</th>\n",
       "      <th>24-6-2013</th>\n",
       "      <th>25-6-2013</th>\n",
       "      <th>26-6-2013</th>\n",
       "      <th>27-6-2013</th>\n",
       "      <th>28-6-2013</th>\n",
       "      <th>...</th>\n",
       "      <th>city</th>\n",
       "      <th>gender</th>\n",
       "      <th>age</th>\n",
       "      <th>hh_size</th>\n",
       "      <th>education</th>\n",
       "      <th>education_1</th>\n",
       "      <th>height</th>\n",
       "      <th>weight</th>\n",
       "      <th>means_step_per_participant</th>\n",
       "      <th>BMI</th>\n",
       "    </tr>\n",
       "  </thead>\n",
       "  <tbody>\n",
       "    <tr>\n",
       "      <th>0</th>\n",
       "      <td>1</td>\n",
       "      <td>NaN</td>\n",
       "      <td>NaN</td>\n",
       "      <td>NaN</td>\n",
       "      <td>NaN</td>\n",
       "      <td>3941.0</td>\n",
       "      <td>15733.0</td>\n",
       "      <td>9929.0</td>\n",
       "      <td>12879.0</td>\n",
       "      <td>10541.0</td>\n",
       "      <td>...</td>\n",
       "      <td>Bordeaux</td>\n",
       "      <td>Male</td>\n",
       "      <td>25-34</td>\n",
       "      <td>4</td>\n",
       "      <td>4</td>\n",
       "      <td>Master or doctorate</td>\n",
       "      <td>178.0</td>\n",
       "      <td>98.0</td>\n",
       "      <td>10144.048193</td>\n",
       "      <td>30.930438</td>\n",
       "    </tr>\n",
       "    <tr>\n",
       "      <th>1</th>\n",
       "      <td>2</td>\n",
       "      <td>NaN</td>\n",
       "      <td>NaN</td>\n",
       "      <td>10473.0</td>\n",
       "      <td>705.0</td>\n",
       "      <td>4287.0</td>\n",
       "      <td>5507.0</td>\n",
       "      <td>4024.0</td>\n",
       "      <td>3926.0</td>\n",
       "      <td>14595.0</td>\n",
       "      <td>...</td>\n",
       "      <td>Lille</td>\n",
       "      <td>Male</td>\n",
       "      <td>35-44</td>\n",
       "      <td>1</td>\n",
       "      <td>3</td>\n",
       "      <td>Bachelor</td>\n",
       "      <td>180.0</td>\n",
       "      <td>77.0</td>\n",
       "      <td>5652.756098</td>\n",
       "      <td>23.765432</td>\n",
       "    </tr>\n",
       "    <tr>\n",
       "      <th>2</th>\n",
       "      <td>3</td>\n",
       "      <td>NaN</td>\n",
       "      <td>11428.0</td>\n",
       "      <td>12523.0</td>\n",
       "      <td>2553.0</td>\n",
       "      <td>190.0</td>\n",
       "      <td>2164.0</td>\n",
       "      <td>8185.0</td>\n",
       "      <td>9630.0</td>\n",
       "      <td>8983.0</td>\n",
       "      <td>...</td>\n",
       "      <td>Montpellier</td>\n",
       "      <td>Male</td>\n",
       "      <td>25-34</td>\n",
       "      <td>2</td>\n",
       "      <td>2</td>\n",
       "      <td>Master or doctorate</td>\n",
       "      <td>180.0</td>\n",
       "      <td>83.0</td>\n",
       "      <td>8246.033557</td>\n",
       "      <td>25.617284</td>\n",
       "    </tr>\n",
       "    <tr>\n",
       "      <th>3</th>\n",
       "      <td>4</td>\n",
       "      <td>NaN</td>\n",
       "      <td>NaN</td>\n",
       "      <td>NaN</td>\n",
       "      <td>NaN</td>\n",
       "      <td>NaN</td>\n",
       "      <td>NaN</td>\n",
       "      <td>NaN</td>\n",
       "      <td>NaN</td>\n",
       "      <td>NaN</td>\n",
       "      <td>...</td>\n",
       "      <td>Lyon</td>\n",
       "      <td>Male</td>\n",
       "      <td>&lt;25</td>\n",
       "      <td>1</td>\n",
       "      <td>1</td>\n",
       "      <td>Bachelor</td>\n",
       "      <td>178.0</td>\n",
       "      <td>80.0</td>\n",
       "      <td>3460.380952</td>\n",
       "      <td>25.249337</td>\n",
       "    </tr>\n",
       "    <tr>\n",
       "      <th>4</th>\n",
       "      <td>5</td>\n",
       "      <td>NaN</td>\n",
       "      <td>NaN</td>\n",
       "      <td>NaN</td>\n",
       "      <td>NaN</td>\n",
       "      <td>NaN</td>\n",
       "      <td>NaN</td>\n",
       "      <td>NaN</td>\n",
       "      <td>NaN</td>\n",
       "      <td>NaN</td>\n",
       "      <td>...</td>\n",
       "      <td>Montpellier</td>\n",
       "      <td>Female</td>\n",
       "      <td>25-34</td>\n",
       "      <td>3</td>\n",
       "      <td>4</td>\n",
       "      <td>Bachelor</td>\n",
       "      <td>167.0</td>\n",
       "      <td>61.0</td>\n",
       "      <td>5215.636364</td>\n",
       "      <td>21.872423</td>\n",
       "    </tr>\n",
       "    <tr>\n",
       "      <th>...</th>\n",
       "      <td>...</td>\n",
       "      <td>...</td>\n",
       "      <td>...</td>\n",
       "      <td>...</td>\n",
       "      <td>...</td>\n",
       "      <td>...</td>\n",
       "      <td>...</td>\n",
       "      <td>...</td>\n",
       "      <td>...</td>\n",
       "      <td>...</td>\n",
       "      <td>...</td>\n",
       "      <td>...</td>\n",
       "      <td>...</td>\n",
       "      <td>...</td>\n",
       "      <td>...</td>\n",
       "      <td>...</td>\n",
       "      <td>...</td>\n",
       "      <td>...</td>\n",
       "      <td>...</td>\n",
       "      <td>...</td>\n",
       "      <td>...</td>\n",
       "    </tr>\n",
       "    <tr>\n",
       "      <th>924</th>\n",
       "      <td>925</td>\n",
       "      <td>NaN</td>\n",
       "      <td>4571.0</td>\n",
       "      <td>10471.0</td>\n",
       "      <td>5899.0</td>\n",
       "      <td>15295.0</td>\n",
       "      <td>9178.0</td>\n",
       "      <td>9348.0</td>\n",
       "      <td>12229.0</td>\n",
       "      <td>13767.0</td>\n",
       "      <td>...</td>\n",
       "      <td>Lille</td>\n",
       "      <td>Female</td>\n",
       "      <td>45-54</td>\n",
       "      <td>3</td>\n",
       "      <td>4</td>\n",
       "      <td>Master or doctorate</td>\n",
       "      <td>165.0</td>\n",
       "      <td>59.0</td>\n",
       "      <td>6223.902174</td>\n",
       "      <td>21.671258</td>\n",
       "    </tr>\n",
       "    <tr>\n",
       "      <th>925</th>\n",
       "      <td>926</td>\n",
       "      <td>NaN</td>\n",
       "      <td>NaN</td>\n",
       "      <td>NaN</td>\n",
       "      <td>NaN</td>\n",
       "      <td>NaN</td>\n",
       "      <td>NaN</td>\n",
       "      <td>NaN</td>\n",
       "      <td>NaN</td>\n",
       "      <td>NaN</td>\n",
       "      <td>...</td>\n",
       "      <td>Lille</td>\n",
       "      <td>Male</td>\n",
       "      <td>&lt;25</td>\n",
       "      <td>3</td>\n",
       "      <td>5</td>\n",
       "      <td>Bachelor</td>\n",
       "      <td>192.0</td>\n",
       "      <td>90.0</td>\n",
       "      <td>4723.921569</td>\n",
       "      <td>24.414062</td>\n",
       "    </tr>\n",
       "    <tr>\n",
       "      <th>926</th>\n",
       "      <td>927</td>\n",
       "      <td>NaN</td>\n",
       "      <td>NaN</td>\n",
       "      <td>NaN</td>\n",
       "      <td>1623.0</td>\n",
       "      <td>NaN</td>\n",
       "      <td>NaN</td>\n",
       "      <td>NaN</td>\n",
       "      <td>NaN</td>\n",
       "      <td>NaN</td>\n",
       "      <td>...</td>\n",
       "      <td>Montpellier</td>\n",
       "      <td>Male</td>\n",
       "      <td>35-44</td>\n",
       "      <td>2</td>\n",
       "      <td>2</td>\n",
       "      <td>Bachelor</td>\n",
       "      <td>181.0</td>\n",
       "      <td>71.0</td>\n",
       "      <td>9986.135922</td>\n",
       "      <td>21.672110</td>\n",
       "    </tr>\n",
       "    <tr>\n",
       "      <th>927</th>\n",
       "      <td>928</td>\n",
       "      <td>NaN</td>\n",
       "      <td>NaN</td>\n",
       "      <td>14411.0</td>\n",
       "      <td>14364.0</td>\n",
       "      <td>26629.0</td>\n",
       "      <td>13092.0</td>\n",
       "      <td>9266.0</td>\n",
       "      <td>14949.0</td>\n",
       "      <td>43238.0</td>\n",
       "      <td>...</td>\n",
       "      <td>Lille</td>\n",
       "      <td>Female</td>\n",
       "      <td>55-64</td>\n",
       "      <td>1</td>\n",
       "      <td>1</td>\n",
       "      <td>High school</td>\n",
       "      <td>172.0</td>\n",
       "      <td>65.0</td>\n",
       "      <td>15499.780488</td>\n",
       "      <td>21.971336</td>\n",
       "    </tr>\n",
       "    <tr>\n",
       "      <th>928</th>\n",
       "      <td>929</td>\n",
       "      <td>NaN</td>\n",
       "      <td>3324.0</td>\n",
       "      <td>4507.0</td>\n",
       "      <td>14364.0</td>\n",
       "      <td>4098.0</td>\n",
       "      <td>7299.0</td>\n",
       "      <td>11534.0</td>\n",
       "      <td>10125.0</td>\n",
       "      <td>7700.0</td>\n",
       "      <td>...</td>\n",
       "      <td>Lyon</td>\n",
       "      <td>Male</td>\n",
       "      <td>25-34</td>\n",
       "      <td>2</td>\n",
       "      <td>2</td>\n",
       "      <td>High school</td>\n",
       "      <td>180.0</td>\n",
       "      <td>76.0</td>\n",
       "      <td>7536.239130</td>\n",
       "      <td>23.456790</td>\n",
       "    </tr>\n",
       "  </tbody>\n",
       "</table>\n",
       "<p>919 rows × 339 columns</p>\n",
       "</div>"
      ],
      "text/plain": [
       "      id  20-6-2013  21-6-2013  22-6-2013  23-6-2013  24-6-2013  25-6-2013  \\\n",
       "0      1        NaN        NaN        NaN        NaN     3941.0    15733.0   \n",
       "1      2        NaN        NaN    10473.0      705.0     4287.0     5507.0   \n",
       "2      3        NaN    11428.0    12523.0     2553.0      190.0     2164.0   \n",
       "3      4        NaN        NaN        NaN        NaN        NaN        NaN   \n",
       "4      5        NaN        NaN        NaN        NaN        NaN        NaN   \n",
       "..   ...        ...        ...        ...        ...        ...        ...   \n",
       "924  925        NaN     4571.0    10471.0     5899.0    15295.0     9178.0   \n",
       "925  926        NaN        NaN        NaN        NaN        NaN        NaN   \n",
       "926  927        NaN        NaN        NaN     1623.0        NaN        NaN   \n",
       "927  928        NaN        NaN    14411.0    14364.0    26629.0    13092.0   \n",
       "928  929        NaN     3324.0     4507.0    14364.0     4098.0     7299.0   \n",
       "\n",
       "     26-6-2013  27-6-2013  28-6-2013  ...         city  gender    age  \\\n",
       "0       9929.0    12879.0    10541.0  ...     Bordeaux    Male  25-34   \n",
       "1       4024.0     3926.0    14595.0  ...        Lille    Male  35-44   \n",
       "2       8185.0     9630.0     8983.0  ...  Montpellier    Male  25-34   \n",
       "3          NaN        NaN        NaN  ...         Lyon    Male    <25   \n",
       "4          NaN        NaN        NaN  ...  Montpellier  Female  25-34   \n",
       "..         ...        ...        ...  ...          ...     ...    ...   \n",
       "924     9348.0    12229.0    13767.0  ...        Lille  Female  45-54   \n",
       "925        NaN        NaN        NaN  ...        Lille    Male    <25   \n",
       "926        NaN        NaN        NaN  ...  Montpellier    Male  35-44   \n",
       "927     9266.0    14949.0    43238.0  ...        Lille  Female  55-64   \n",
       "928    11534.0    10125.0     7700.0  ...         Lyon    Male  25-34   \n",
       "\n",
       "     hh_size  education          education_1  height  weight  \\\n",
       "0          4          4  Master or doctorate   178.0    98.0   \n",
       "1          1          3             Bachelor   180.0    77.0   \n",
       "2          2          2  Master or doctorate   180.0    83.0   \n",
       "3          1          1             Bachelor   178.0    80.0   \n",
       "4          3          4             Bachelor   167.0    61.0   \n",
       "..       ...        ...                  ...     ...     ...   \n",
       "924        3          4  Master or doctorate   165.0    59.0   \n",
       "925        3          5             Bachelor   192.0    90.0   \n",
       "926        2          2             Bachelor   181.0    71.0   \n",
       "927        1          1          High school   172.0    65.0   \n",
       "928        2          2          High school   180.0    76.0   \n",
       "\n",
       "     means_step_per_participant        BMI  \n",
       "0                  10144.048193  30.930438  \n",
       "1                   5652.756098  23.765432  \n",
       "2                   8246.033557  25.617284  \n",
       "3                   3460.380952  25.249337  \n",
       "4                   5215.636364  21.872423  \n",
       "..                          ...        ...  \n",
       "924                 6223.902174  21.671258  \n",
       "925                 4723.921569  24.414062  \n",
       "926                 9986.135922  21.672110  \n",
       "927                15499.780488  21.971336  \n",
       "928                 7536.239130  23.456790  \n",
       "\n",
       "[919 rows x 339 columns]"
      ]
     },
     "execution_count": 221,
     "metadata": {},
     "output_type": "execute_result"
    }
   ],
   "source": [
    "df"
   ]
  },
  {
   "cell_type": "markdown",
   "id": "2e885913",
   "metadata": {},
   "source": [
    "I decided to take three fun categorical variables<br>\n",
    "Dummy code found on the powerpoint lesson 3"
   ]
  },
  {
   "cell_type": "code",
   "execution_count": 222,
   "id": "b6b9955d",
   "metadata": {},
   "outputs": [
    {
     "data": {
      "text/html": [
       "<div>\n",
       "<style scoped>\n",
       "    .dataframe tbody tr th:only-of-type {\n",
       "        vertical-align: middle;\n",
       "    }\n",
       "\n",
       "    .dataframe tbody tr th {\n",
       "        vertical-align: top;\n",
       "    }\n",
       "\n",
       "    .dataframe thead th {\n",
       "        text-align: right;\n",
       "    }\n",
       "</style>\n",
       "<table border=\"1\" class=\"dataframe\">\n",
       "  <thead>\n",
       "    <tr style=\"text-align: right;\">\n",
       "      <th></th>\n",
       "      <th>gender_Female</th>\n",
       "      <th>gender_Male</th>\n",
       "      <th>age_25-34</th>\n",
       "      <th>age_35-44</th>\n",
       "      <th>age_45-54</th>\n",
       "      <th>age_55-64</th>\n",
       "      <th>age_65+</th>\n",
       "      <th>age_&lt;25</th>\n",
       "      <th>education_1_Bachelor</th>\n",
       "      <th>education_1_High school</th>\n",
       "      <th>education_1_Master or doctorate</th>\n",
       "      <th>education_1_No degree</th>\n",
       "      <th>education_1_Primary</th>\n",
       "      <th>education_1_Vocational</th>\n",
       "    </tr>\n",
       "  </thead>\n",
       "  <tbody>\n",
       "    <tr>\n",
       "      <th>0</th>\n",
       "      <td>0</td>\n",
       "      <td>1</td>\n",
       "      <td>1</td>\n",
       "      <td>0</td>\n",
       "      <td>0</td>\n",
       "      <td>0</td>\n",
       "      <td>0</td>\n",
       "      <td>0</td>\n",
       "      <td>0</td>\n",
       "      <td>0</td>\n",
       "      <td>1</td>\n",
       "      <td>0</td>\n",
       "      <td>0</td>\n",
       "      <td>0</td>\n",
       "    </tr>\n",
       "    <tr>\n",
       "      <th>1</th>\n",
       "      <td>0</td>\n",
       "      <td>1</td>\n",
       "      <td>0</td>\n",
       "      <td>1</td>\n",
       "      <td>0</td>\n",
       "      <td>0</td>\n",
       "      <td>0</td>\n",
       "      <td>0</td>\n",
       "      <td>1</td>\n",
       "      <td>0</td>\n",
       "      <td>0</td>\n",
       "      <td>0</td>\n",
       "      <td>0</td>\n",
       "      <td>0</td>\n",
       "    </tr>\n",
       "    <tr>\n",
       "      <th>2</th>\n",
       "      <td>0</td>\n",
       "      <td>1</td>\n",
       "      <td>1</td>\n",
       "      <td>0</td>\n",
       "      <td>0</td>\n",
       "      <td>0</td>\n",
       "      <td>0</td>\n",
       "      <td>0</td>\n",
       "      <td>0</td>\n",
       "      <td>0</td>\n",
       "      <td>1</td>\n",
       "      <td>0</td>\n",
       "      <td>0</td>\n",
       "      <td>0</td>\n",
       "    </tr>\n",
       "    <tr>\n",
       "      <th>3</th>\n",
       "      <td>0</td>\n",
       "      <td>1</td>\n",
       "      <td>0</td>\n",
       "      <td>0</td>\n",
       "      <td>0</td>\n",
       "      <td>0</td>\n",
       "      <td>0</td>\n",
       "      <td>1</td>\n",
       "      <td>1</td>\n",
       "      <td>0</td>\n",
       "      <td>0</td>\n",
       "      <td>0</td>\n",
       "      <td>0</td>\n",
       "      <td>0</td>\n",
       "    </tr>\n",
       "    <tr>\n",
       "      <th>4</th>\n",
       "      <td>1</td>\n",
       "      <td>0</td>\n",
       "      <td>1</td>\n",
       "      <td>0</td>\n",
       "      <td>0</td>\n",
       "      <td>0</td>\n",
       "      <td>0</td>\n",
       "      <td>0</td>\n",
       "      <td>1</td>\n",
       "      <td>0</td>\n",
       "      <td>0</td>\n",
       "      <td>0</td>\n",
       "      <td>0</td>\n",
       "      <td>0</td>\n",
       "    </tr>\n",
       "    <tr>\n",
       "      <th>...</th>\n",
       "      <td>...</td>\n",
       "      <td>...</td>\n",
       "      <td>...</td>\n",
       "      <td>...</td>\n",
       "      <td>...</td>\n",
       "      <td>...</td>\n",
       "      <td>...</td>\n",
       "      <td>...</td>\n",
       "      <td>...</td>\n",
       "      <td>...</td>\n",
       "      <td>...</td>\n",
       "      <td>...</td>\n",
       "      <td>...</td>\n",
       "      <td>...</td>\n",
       "    </tr>\n",
       "    <tr>\n",
       "      <th>924</th>\n",
       "      <td>1</td>\n",
       "      <td>0</td>\n",
       "      <td>0</td>\n",
       "      <td>0</td>\n",
       "      <td>1</td>\n",
       "      <td>0</td>\n",
       "      <td>0</td>\n",
       "      <td>0</td>\n",
       "      <td>0</td>\n",
       "      <td>0</td>\n",
       "      <td>1</td>\n",
       "      <td>0</td>\n",
       "      <td>0</td>\n",
       "      <td>0</td>\n",
       "    </tr>\n",
       "    <tr>\n",
       "      <th>925</th>\n",
       "      <td>0</td>\n",
       "      <td>1</td>\n",
       "      <td>0</td>\n",
       "      <td>0</td>\n",
       "      <td>0</td>\n",
       "      <td>0</td>\n",
       "      <td>0</td>\n",
       "      <td>1</td>\n",
       "      <td>1</td>\n",
       "      <td>0</td>\n",
       "      <td>0</td>\n",
       "      <td>0</td>\n",
       "      <td>0</td>\n",
       "      <td>0</td>\n",
       "    </tr>\n",
       "    <tr>\n",
       "      <th>926</th>\n",
       "      <td>0</td>\n",
       "      <td>1</td>\n",
       "      <td>0</td>\n",
       "      <td>1</td>\n",
       "      <td>0</td>\n",
       "      <td>0</td>\n",
       "      <td>0</td>\n",
       "      <td>0</td>\n",
       "      <td>1</td>\n",
       "      <td>0</td>\n",
       "      <td>0</td>\n",
       "      <td>0</td>\n",
       "      <td>0</td>\n",
       "      <td>0</td>\n",
       "    </tr>\n",
       "    <tr>\n",
       "      <th>927</th>\n",
       "      <td>1</td>\n",
       "      <td>0</td>\n",
       "      <td>0</td>\n",
       "      <td>0</td>\n",
       "      <td>0</td>\n",
       "      <td>1</td>\n",
       "      <td>0</td>\n",
       "      <td>0</td>\n",
       "      <td>0</td>\n",
       "      <td>1</td>\n",
       "      <td>0</td>\n",
       "      <td>0</td>\n",
       "      <td>0</td>\n",
       "      <td>0</td>\n",
       "    </tr>\n",
       "    <tr>\n",
       "      <th>928</th>\n",
       "      <td>0</td>\n",
       "      <td>1</td>\n",
       "      <td>1</td>\n",
       "      <td>0</td>\n",
       "      <td>0</td>\n",
       "      <td>0</td>\n",
       "      <td>0</td>\n",
       "      <td>0</td>\n",
       "      <td>0</td>\n",
       "      <td>1</td>\n",
       "      <td>0</td>\n",
       "      <td>0</td>\n",
       "      <td>0</td>\n",
       "      <td>0</td>\n",
       "    </tr>\n",
       "  </tbody>\n",
       "</table>\n",
       "<p>919 rows × 14 columns</p>\n",
       "</div>"
      ],
      "text/plain": [
       "     gender_Female  gender_Male  age_25-34  age_35-44  age_45-54  age_55-64  \\\n",
       "0                0            1          1          0          0          0   \n",
       "1                0            1          0          1          0          0   \n",
       "2                0            1          1          0          0          0   \n",
       "3                0            1          0          0          0          0   \n",
       "4                1            0          1          0          0          0   \n",
       "..             ...          ...        ...        ...        ...        ...   \n",
       "924              1            0          0          0          1          0   \n",
       "925              0            1          0          0          0          0   \n",
       "926              0            1          0          1          0          0   \n",
       "927              1            0          0          0          0          1   \n",
       "928              0            1          1          0          0          0   \n",
       "\n",
       "     age_65+  age_<25  education_1_Bachelor  education_1_High school  \\\n",
       "0          0        0                     0                        0   \n",
       "1          0        0                     1                        0   \n",
       "2          0        0                     0                        0   \n",
       "3          0        1                     1                        0   \n",
       "4          0        0                     1                        0   \n",
       "..       ...      ...                   ...                      ...   \n",
       "924        0        0                     0                        0   \n",
       "925        0        1                     1                        0   \n",
       "926        0        0                     1                        0   \n",
       "927        0        0                     0                        1   \n",
       "928        0        0                     0                        1   \n",
       "\n",
       "     education_1_Master or doctorate  education_1_No degree  \\\n",
       "0                                  1                      0   \n",
       "1                                  0                      0   \n",
       "2                                  1                      0   \n",
       "3                                  0                      0   \n",
       "4                                  0                      0   \n",
       "..                               ...                    ...   \n",
       "924                                1                      0   \n",
       "925                                0                      0   \n",
       "926                                0                      0   \n",
       "927                                0                      0   \n",
       "928                                0                      0   \n",
       "\n",
       "     education_1_Primary  education_1_Vocational  \n",
       "0                      0                       0  \n",
       "1                      0                       0  \n",
       "2                      0                       0  \n",
       "3                      0                       0  \n",
       "4                      0                       0  \n",
       "..                   ...                     ...  \n",
       "924                    0                       0  \n",
       "925                    0                       0  \n",
       "926                    0                       0  \n",
       "927                    0                       0  \n",
       "928                    0                       0  \n",
       "\n",
       "[919 rows x 14 columns]"
      ]
     },
     "execution_count": 222,
     "metadata": {},
     "output_type": "execute_result"
    }
   ],
   "source": [
    "a = pd.get_dummies(df[[\"gender\", \"age\", \"education_1\"]])\n",
    "a"
   ]
  },
  {
   "cell_type": "markdown",
   "id": "3c80f731",
   "metadata": {},
   "source": [
    "### Step 3: Fit a linear regression model to predict the mean steps per participant, using the training data. You can include all variables (easy), or you can try to find the combination that gives you the best fit (harder)."
   ]
  },
  {
   "cell_type": "markdown",
   "id": "abf30176",
   "metadata": {},
   "source": [
    "Understanding the step, I need to make training data to predict the mean steps per participant. After that fit it into a linear regression model."
   ]
  },
  {
   "cell_type": "markdown",
   "id": "3e88ab94",
   "metadata": {},
   "source": [
    "First I have to train the data, I did this with the help from the examples codes"
   ]
  },
  {
   "cell_type": "markdown",
   "id": "e66156b2",
   "metadata": {},
   "source": [
    "information from the powerpoint:<br>\n",
    "y = independent variable = means step per participant<br>\n",
    "x = dependent variable = a dummy variable, one of each (gender, age, education)"
   ]
  },
  {
   "cell_type": "code",
   "execution_count": 223,
   "id": "0bfb1ab3",
   "metadata": {},
   "outputs": [],
   "source": [
    "from sklearn.model_selection import train_test_split\n",
    "\n",
    "x = a[[\"gender_Female\", \"age_<25\", \"education_1_Bachelor\"]]\n",
    "y = df['means_step_per_participant'] \n",
    "\n",
    "x_train, x_test, y_train, y_test = train_test_split(x, y, test_size = 0.3) #splits the data into train (70%) and test (30%) data"
   ]
  },
  {
   "cell_type": "markdown",
   "id": "0902a63b",
   "metadata": {},
   "source": [
    "Next step: putting the training data in a linear regression model and finding the regression line"
   ]
  },
  {
   "cell_type": "code",
   "execution_count": 224,
   "id": "64c5f709",
   "metadata": {},
   "outputs": [],
   "source": [
    "from sklearn.linear_model import LinearRegression\n",
    "\n",
    "lm = LinearRegression() #create a new (empty model)\n",
    "lm = lm.fit(x_train, y_train) #fit the model WITH THE TRAIN DATA ONLY"
   ]
  },
  {
   "cell_type": "code",
   "execution_count": 225,
   "id": "116b1d10",
   "metadata": {},
   "outputs": [
    {
     "name": "stdout",
     "output_type": "stream",
     "text": [
      "The regression line is equal to y = 6474.65 + 274.18X\n"
     ]
    }
   ],
   "source": [
    "b0 = lm.intercept_ #lm.coef_ gets a list of coefficients (excluding the intercept). [0] gets the actual number from the list\n",
    "b1 = lm.coef_[0] #gets the intercept\n",
    "\n",
    "print(f\"The regression line is equal to y = {b0:.2f} + {b1:.2f}X\") #.0f formats to 2 decimals."
   ]
  },
  {
   "cell_type": "markdown",
   "id": "c99c4cb1",
   "metadata": {},
   "source": [
    "For a female, under the age of 25, with a Bachelor, her linear regression model looks like:"
   ]
  },
  {
   "cell_type": "markdown",
   "id": "06910eca",
   "metadata": {},
   "source": [
    "So her mean steps per participants starts at 6475 steps and has an increase of 247 steps per y"
   ]
  },
  {
   "cell_type": "markdown",
   "id": "dad2aee4",
   "metadata": {},
   "source": [
    "$y= 6475 + +274x$"
   ]
  },
  {
   "cell_type": "markdown",
   "id": "658e0ef4",
   "metadata": {},
   "source": [
    "*note: each run can have a different result, because the training data learns different every time"
   ]
  },
  {
   "cell_type": "markdown",
   "id": "98e4ff30",
   "metadata": {},
   "source": [
    "## Evaluation"
   ]
  },
  {
   "cell_type": "markdown",
   "id": "739c2638",
   "metadata": {},
   "source": [
    "### Step 1: Evaluate the model on the test data"
   ]
  },
  {
   "cell_type": "markdown",
   "id": "4c987552",
   "metadata": {},
   "source": [
    "#### Predictive power of the model (R2, RMSE)"
   ]
  },
  {
   "cell_type": "markdown",
   "id": "e2a7f2d2",
   "metadata": {},
   "source": [
    "\"RMSE (Root Mean Squared Error) is the error rate by the square root of MSE.\"<br>\n",
    "\"R-squared (Coefficient of determination) represents the coefficient of how well the values fit compared to the original values. The value from 0 to 1 interpreted as percentages. The higher the value is, the better the model is.\"<br>\n",
    "https://www.datatechnotes.com/2019/10/accuracy-check-in-python-mae-mse-rmse-r.html"
   ]
  },
  {
   "cell_type": "markdown",
   "id": "9be3a5a2",
   "metadata": {},
   "source": [
    "In these next step I calculate the R2 and RMSE, with code help from the examples"
   ]
  },
  {
   "cell_type": "code",
   "execution_count": 226,
   "id": "11d47c08",
   "metadata": {},
   "outputs": [],
   "source": [
    "y_test_p = lm.predict(x_test)"
   ]
  },
  {
   "cell_type": "code",
   "execution_count": 227,
   "id": "85474b78",
   "metadata": {},
   "outputs": [
    {
     "data": {
      "text/plain": [
       "0.016152707290205792"
      ]
     },
     "execution_count": 227,
     "metadata": {},
     "output_type": "execute_result"
    }
   ],
   "source": [
    "from sklearn.metrics import r2_score\n",
    "\n",
    "r2_score(y_test, y_test_p)"
   ]
  },
  {
   "cell_type": "markdown",
   "id": "836270d7",
   "metadata": {},
   "source": [
    "The R2 is pretty low, which means the variation is not much explained."
   ]
  },
  {
   "cell_type": "code",
   "execution_count": 228,
   "id": "0f042f77",
   "metadata": {},
   "outputs": [
    {
     "data": {
      "text/plain": [
       "3065.970850620079"
      ]
     },
     "execution_count": 228,
     "metadata": {},
     "output_type": "execute_result"
    }
   ],
   "source": [
    "import math\n",
    "from sklearn.metrics import mean_squared_error\n",
    "\n",
    "math.sqrt(mean_squared_error(y_test, y_test_p)) #this gives the model fit (R2) for the Y and predicted "
   ]
  },
  {
   "cell_type": "markdown",
   "id": "72961463",
   "metadata": {},
   "source": [
    "The RMSE is 2588 off from the predicted value"
   ]
  },
  {
   "cell_type": "markdown",
   "id": "074bb8a9",
   "metadata": {},
   "source": [
    "#### Investigate the residuals"
   ]
  },
  {
   "cell_type": "markdown",
   "id": "d9519837",
   "metadata": {},
   "source": [
    "\"A residual is the difference between an observed value and a predicted value in a regression model.\" https://www.statology.org/standardized-residuals-python/<br>\n",
    "I also did this code with help from the examples"
   ]
  },
  {
   "cell_type": "code",
   "execution_count": 229,
   "id": "852207b8",
   "metadata": {},
   "outputs": [
    {
     "data": {
      "text/plain": [
       "0.015556389051856634"
      ]
     },
     "execution_count": 229,
     "metadata": {},
     "output_type": "execute_result"
    }
   ],
   "source": [
    "lm2 = LinearRegression() #create a new (empty model)\n",
    "lm2.fit(x, y) #fit the model with all the data\n",
    "y_p = lm.predict(x)\n",
    "r2_score(y, y_p) "
   ]
  },
  {
   "cell_type": "markdown",
   "id": "395c7c15",
   "metadata": {},
   "source": [
    "### Describe and interpret the results"
   ]
  },
  {
   "cell_type": "markdown",
   "id": "f107ebad",
   "metadata": {},
   "source": [
    "I think that the R2 did not work correctly, as it gives a very low result. This means we can very little explain about the variation in our data<br>\n",
    "RMSE tells us how far an outlier is off from the rest of the group, which in this case with mean steps per participant is 2588 steps, which seems legit<br>\n",
    "The residual is observed value – predicted value. I also believe that this result is not complete. For the residual itself, I think it is the distance between the linear regression line and the outlier"
   ]
  },
  {
   "cell_type": "markdown",
   "id": "ac0d78e6",
   "metadata": {},
   "source": [
    "## Conclusion"
   ]
  },
  {
   "cell_type": "markdown",
   "id": "2eace0e9",
   "metadata": {},
   "source": [
    "I really liked this assignment! I feel like I learned a lot and I really liked seeing the results. Although I must admit that the weekly assignment from week 3 was kind of difficult to make and explain. Especially the evaluation part, I am not sure I understand all the R2, RMSE, residual and how to correctly put the training data in.<br>\n",
    "I think a struggle part with the training data is that in the example it shows for x = df[\"area\" etc], but in the step it asks to use the dummy variables. I think this made the results so low, which made it difficult for me to interpret it.<br>\n",
    "But overall I really liked working with the dataset, all the different types of graphs, making new things like BMI, and looking at the relations between them and other variables. It was very interesting"
   ]
  }
 ],
 "metadata": {
  "kernelspec": {
   "display_name": "Python 3",
   "language": "python",
   "name": "python3"
  },
  "language_info": {
   "codemirror_mode": {
    "name": "ipython",
    "version": 3
   },
   "file_extension": ".py",
   "mimetype": "text/x-python",
   "name": "python",
   "nbconvert_exporter": "python",
   "pygments_lexer": "ipython3",
   "version": "3.8.8"
  }
 },
 "nbformat": 4,
 "nbformat_minor": 5
}
